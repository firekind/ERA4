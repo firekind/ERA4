{
 "cells": [
  {
   "cell_type": "code",
   "execution_count": 1,
   "id": "bf4b30c2",
   "metadata": {},
   "outputs": [],
   "source": [
    "import torch\n",
    "import torch.nn.functional as F\n",
    "import torch.optim as optim\n",
    "from torchvision import transforms\n",
    "from session_6 import Model1, train, create_mnist_data_loaders\n"
   ]
  },
  {
   "cell_type": "code",
   "execution_count": 2,
   "id": "c3967a61",
   "metadata": {},
   "outputs": [],
   "source": [
    "_ = torch.manual_seed(1)"
   ]
  },
  {
   "cell_type": "code",
   "execution_count": 3,
   "id": "25a981f8",
   "metadata": {},
   "outputs": [
    {
     "name": "stdout",
     "output_type": "stream",
     "text": [
      "----------------------------------------------------------------\n",
      "        Layer (type)               Output Shape         Param #\n",
      "================================================================\n",
      "            Conv2d-1            [-1, 8, 28, 28]              80\n",
      "              ReLU-2            [-1, 8, 28, 28]               0\n",
      "       BatchNorm2d-3            [-1, 8, 28, 28]              16\n",
      "            Conv2d-4            [-1, 8, 28, 28]             584\n",
      "              ReLU-5            [-1, 8, 28, 28]               0\n",
      "       BatchNorm2d-6            [-1, 8, 28, 28]              16\n",
      "         MaxPool2d-7            [-1, 8, 14, 14]               0\n",
      "           Dropout-8            [-1, 8, 14, 14]               0\n",
      "            Conv2d-9           [-1, 12, 14, 14]             876\n",
      "             ReLU-10           [-1, 12, 14, 14]               0\n",
      "      BatchNorm2d-11           [-1, 12, 14, 14]              24\n",
      "           Conv2d-12           [-1, 12, 14, 14]           1,308\n",
      "             ReLU-13           [-1, 12, 14, 14]               0\n",
      "      BatchNorm2d-14           [-1, 12, 14, 14]              24\n",
      "        MaxPool2d-15             [-1, 12, 7, 7]               0\n",
      "          Dropout-16             [-1, 12, 7, 7]               0\n",
      "           Conv2d-17             [-1, 16, 5, 5]           1,744\n",
      "             ReLU-18             [-1, 16, 5, 5]               0\n",
      "      BatchNorm2d-19             [-1, 16, 5, 5]              32\n",
      "           Conv2d-20             [-1, 10, 3, 3]           1,450\n",
      "             ReLU-21             [-1, 10, 3, 3]               0\n",
      "      BatchNorm2d-22             [-1, 10, 3, 3]              20\n",
      "AdaptiveAvgPool2d-23             [-1, 10, 1, 1]               0\n",
      "          Dropout-24             [-1, 10, 1, 1]               0\n",
      "================================================================\n",
      "Total params: 6,174\n",
      "Trainable params: 6,174\n",
      "Non-trainable params: 0\n",
      "----------------------------------------------------------------\n",
      "Input size (MB): 0.00\n",
      "Forward/backward pass size (MB): 0.44\n",
      "Params size (MB): 0.02\n",
      "Estimated Total Size (MB): 0.47\n",
      "----------------------------------------------------------------\n"
     ]
    }
   ],
   "source": [
    "model = Model1()\n",
    "model.summarize()"
   ]
  },
  {
   "cell_type": "code",
   "execution_count": 4,
   "id": "b3d1c60e",
   "metadata": {},
   "outputs": [],
   "source": [
    "epochs = 15\n",
    "batch_size=128\n",
    "loss_fn = F.nll_loss\n",
    "optimizer = optim.Adam(model.parameters(), lr=0.01)\n",
    "data_path = \"../data\"\n",
    "transform = transforms.Compose([\n",
    "    transforms.ToTensor(),\n",
    "    transforms.Normalize((0.1307,), (0.3081,))\n",
    "])"
   ]
  },
  {
   "cell_type": "code",
   "execution_count": 5,
   "id": "729cdca0",
   "metadata": {},
   "outputs": [],
   "source": [
    "train_loader, test_loader = create_mnist_data_loaders(batch_size, data_path, train_transform=transform, test_transform=transform)"
   ]
  },
  {
   "cell_type": "code",
   "execution_count": 6,
   "id": "634756f7",
   "metadata": {},
   "outputs": [
    {
     "name": "stderr",
     "output_type": "stream",
     "text": [
      "epoch=01 loss=0.3856 batch_id=0468 accuracy=82.89%: 100%|██████████| 469/469 [00:05<00:00, 79.85it/s]\n"
     ]
    },
    {
     "name": "stdout",
     "output_type": "stream",
     "text": [
      "Test set: Average loss: 0.0823, Accuracy: 9773/10000 (97.73%)\n",
      "\n"
     ]
    },
    {
     "name": "stderr",
     "output_type": "stream",
     "text": [
      "epoch=02 loss=0.2334 batch_id=0468 accuracy=86.42%: 100%|██████████| 469/469 [00:04<00:00, 94.50it/s] \n"
     ]
    },
    {
     "name": "stdout",
     "output_type": "stream",
     "text": [
      "Test set: Average loss: 0.0481, Accuracy: 9858/10000 (98.58%)\n",
      "\n"
     ]
    },
    {
     "name": "stderr",
     "output_type": "stream",
     "text": [
      "epoch=03 loss=0.2942 batch_id=0468 accuracy=86.71%: 100%|██████████| 469/469 [00:04<00:00, 94.24it/s]\n"
     ]
    },
    {
     "name": "stdout",
     "output_type": "stream",
     "text": [
      "Test set: Average loss: 0.0771, Accuracy: 9764/10000 (97.64%)\n",
      "\n"
     ]
    },
    {
     "name": "stderr",
     "output_type": "stream",
     "text": [
      "epoch=04 loss=0.3171 batch_id=0468 accuracy=87.06%: 100%|██████████| 469/469 [00:04<00:00, 96.43it/s] \n"
     ]
    },
    {
     "name": "stdout",
     "output_type": "stream",
     "text": [
      "Test set: Average loss: 0.0352, Accuracy: 9883/10000 (98.83%)\n",
      "\n"
     ]
    },
    {
     "name": "stderr",
     "output_type": "stream",
     "text": [
      "epoch=05 loss=0.3700 batch_id=0468 accuracy=86.86%: 100%|██████████| 469/469 [00:04<00:00, 94.69it/s]\n"
     ]
    },
    {
     "name": "stdout",
     "output_type": "stream",
     "text": [
      "Test set: Average loss: 0.0338, Accuracy: 9890/10000 (98.90%)\n",
      "\n"
     ]
    },
    {
     "name": "stderr",
     "output_type": "stream",
     "text": [
      "epoch=06 loss=0.2911 batch_id=0468 accuracy=87.37%: 100%|██████████| 469/469 [00:05<00:00, 93.10it/s]\n"
     ]
    },
    {
     "name": "stdout",
     "output_type": "stream",
     "text": [
      "Test set: Average loss: 0.0241, Accuracy: 9924/10000 (99.24%)\n",
      "\n"
     ]
    },
    {
     "name": "stderr",
     "output_type": "stream",
     "text": [
      "epoch=07 loss=0.3265 batch_id=0468 accuracy=87.39%: 100%|██████████| 469/469 [00:04<00:00, 95.16it/s] \n"
     ]
    },
    {
     "name": "stdout",
     "output_type": "stream",
     "text": [
      "Test set: Average loss: 0.0256, Accuracy: 9919/10000 (99.19%)\n",
      "\n"
     ]
    },
    {
     "name": "stderr",
     "output_type": "stream",
     "text": [
      "epoch=08 loss=0.3459 batch_id=0468 accuracy=87.41%: 100%|██████████| 469/469 [00:04<00:00, 97.07it/s] \n"
     ]
    },
    {
     "name": "stdout",
     "output_type": "stream",
     "text": [
      "Test set: Average loss: 0.0247, Accuracy: 9920/10000 (99.20%)\n",
      "\n"
     ]
    },
    {
     "name": "stderr",
     "output_type": "stream",
     "text": [
      "epoch=09 loss=0.2328 batch_id=0468 accuracy=87.54%: 100%|██████████| 469/469 [00:04<00:00, 94.66it/s]\n"
     ]
    },
    {
     "name": "stdout",
     "output_type": "stream",
     "text": [
      "Test set: Average loss: 0.0308, Accuracy: 9895/10000 (98.95%)\n",
      "\n"
     ]
    },
    {
     "name": "stderr",
     "output_type": "stream",
     "text": [
      "epoch=10 loss=0.3972 batch_id=0468 accuracy=87.66%: 100%|██████████| 469/469 [00:04<00:00, 95.62it/s]\n"
     ]
    },
    {
     "name": "stdout",
     "output_type": "stream",
     "text": [
      "Test set: Average loss: 0.0281, Accuracy: 9905/10000 (99.05%)\n",
      "\n"
     ]
    },
    {
     "name": "stderr",
     "output_type": "stream",
     "text": [
      "epoch=11 loss=0.2075 batch_id=0468 accuracy=87.80%: 100%|██████████| 469/469 [00:05<00:00, 93.18it/s]\n"
     ]
    },
    {
     "name": "stdout",
     "output_type": "stream",
     "text": [
      "Test set: Average loss: 0.0271, Accuracy: 9918/10000 (99.18%)\n",
      "\n"
     ]
    },
    {
     "name": "stderr",
     "output_type": "stream",
     "text": [
      "epoch=12 loss=0.2350 batch_id=0468 accuracy=87.76%: 100%|██████████| 469/469 [00:05<00:00, 93.70it/s] \n"
     ]
    },
    {
     "name": "stdout",
     "output_type": "stream",
     "text": [
      "Test set: Average loss: 0.0269, Accuracy: 9916/10000 (99.16%)\n",
      "\n"
     ]
    },
    {
     "name": "stderr",
     "output_type": "stream",
     "text": [
      "epoch=13 loss=0.3078 batch_id=0468 accuracy=87.55%: 100%|██████████| 469/469 [00:04<00:00, 94.76it/s] \n"
     ]
    },
    {
     "name": "stdout",
     "output_type": "stream",
     "text": [
      "Test set: Average loss: 0.0254, Accuracy: 9921/10000 (99.21%)\n",
      "\n"
     ]
    },
    {
     "name": "stderr",
     "output_type": "stream",
     "text": [
      "epoch=14 loss=0.3115 batch_id=0468 accuracy=87.88%: 100%|██████████| 469/469 [00:05<00:00, 92.61it/s]\n"
     ]
    },
    {
     "name": "stdout",
     "output_type": "stream",
     "text": [
      "Test set: Average loss: 0.0229, Accuracy: 9922/10000 (99.22%)\n",
      "\n"
     ]
    },
    {
     "name": "stderr",
     "output_type": "stream",
     "text": [
      "epoch=15 loss=0.2397 batch_id=0468 accuracy=87.67%: 100%|██████████| 469/469 [00:04<00:00, 98.15it/s] \n"
     ]
    },
    {
     "name": "stdout",
     "output_type": "stream",
     "text": [
      "Test set: Average loss: 0.0237, Accuracy: 9920/10000 (99.20%)\n",
      "\n"
     ]
    }
   ],
   "source": [
    "train(model, epochs, train_loader, test_loader, loss_fn, optimizer)"
   ]
  },
  {
   "cell_type": "markdown",
   "id": "dfe3972c",
   "metadata": {},
   "source": [
    "**Target**\n",
    "\n",
    "Target was to build the skeleton, add all proper layers, and get a model below 8k parameters\n",
    "\n",
    "**Result**\n",
    "\n",
    "The skeleton was taken from session 5 assignment and modified a bit. Instead of a direct jump from 8 channels to 16 channels between block 1 and 2, it is first increased to 12 channels and then 16 (in block 3).\n",
    "\n",
    "Parameter Count: 6174\n",
    "\n",
    "train accuracy = 87.67%\n",
    "\n",
    "test accuracy = 99.20%\n",
    "\n",
    "**Analysis**\n",
    "\n",
    "Good structure, parameter count is below target. But model is underfitting. Need to reduce regularization.\n",
    "Both test and train accuracies are not stable."
   ]
  }
 ],
 "metadata": {
  "language_info": {
   "name": "python"
  }
 },
 "nbformat": 4,
 "nbformat_minor": 5
}
