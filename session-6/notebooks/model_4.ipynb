{
 "cells": [
  {
   "cell_type": "code",
   "execution_count": 1,
   "id": "bf4b30c2",
   "metadata": {},
   "outputs": [],
   "source": [
    "import torch\n",
    "import torch.nn.functional as F\n",
    "import torch.optim as optim\n",
    "import torch.optim.lr_scheduler as lr_scheduler\n",
    "from torchvision import transforms\n",
    "from session_6 import Model4, train, create_mnist_data_loaders\n"
   ]
  },
  {
   "cell_type": "code",
   "execution_count": 2,
   "id": "c3967a61",
   "metadata": {},
   "outputs": [],
   "source": [
    "_ = torch.manual_seed(1)"
   ]
  },
  {
   "cell_type": "code",
   "execution_count": 3,
   "id": "25a981f8",
   "metadata": {},
   "outputs": [
    {
     "name": "stdout",
     "output_type": "stream",
     "text": [
      "----------------------------------------------------------------\n",
      "        Layer (type)               Output Shape         Param #\n",
      "================================================================\n",
      "            Conv2d-1            [-1, 8, 28, 28]              80\n",
      "              ReLU-2            [-1, 8, 28, 28]               0\n",
      "       BatchNorm2d-3            [-1, 8, 28, 28]              16\n",
      "            Conv2d-4            [-1, 8, 28, 28]             584\n",
      "              ReLU-5            [-1, 8, 28, 28]               0\n",
      "       BatchNorm2d-6            [-1, 8, 28, 28]              16\n",
      "         MaxPool2d-7            [-1, 8, 14, 14]               0\n",
      "           Dropout-8            [-1, 8, 14, 14]               0\n",
      "            Conv2d-9           [-1, 12, 14, 14]             876\n",
      "             ReLU-10           [-1, 12, 14, 14]               0\n",
      "      BatchNorm2d-11           [-1, 12, 14, 14]              24\n",
      "           Conv2d-12           [-1, 12, 14, 14]           1,308\n",
      "             ReLU-13           [-1, 12, 14, 14]               0\n",
      "      BatchNorm2d-14           [-1, 12, 14, 14]              24\n",
      "        MaxPool2d-15             [-1, 12, 7, 7]               0\n",
      "          Dropout-16             [-1, 12, 7, 7]               0\n",
      "           Conv2d-17             [-1, 16, 5, 5]           1,744\n",
      "             ReLU-18             [-1, 16, 5, 5]               0\n",
      "      BatchNorm2d-19             [-1, 16, 5, 5]              32\n",
      "           Conv2d-20             [-1, 10, 3, 3]           1,450\n",
      "             ReLU-21             [-1, 10, 3, 3]               0\n",
      "      BatchNorm2d-22             [-1, 10, 3, 3]              20\n",
      "AdaptiveAvgPool2d-23             [-1, 10, 1, 1]               0\n",
      "          Dropout-24             [-1, 10, 1, 1]               0\n",
      "================================================================\n",
      "Total params: 6,174\n",
      "Trainable params: 6,174\n",
      "Non-trainable params: 0\n",
      "----------------------------------------------------------------\n",
      "Input size (MB): 0.00\n",
      "Forward/backward pass size (MB): 0.44\n",
      "Params size (MB): 0.02\n",
      "Estimated Total Size (MB): 0.47\n",
      "----------------------------------------------------------------\n"
     ]
    }
   ],
   "source": [
    "model = Model4()\n",
    "model.summarize()"
   ]
  },
  {
   "cell_type": "code",
   "execution_count": 4,
   "id": "b3d1c60e",
   "metadata": {},
   "outputs": [],
   "source": [
    "epochs = 15\n",
    "batch_size=128\n",
    "loss_fn = F.nll_loss\n",
    "optimizer = optim.Adam(model.parameters(), lr=0.01)\n",
    "scheduler = lr_scheduler.StepLR(optimizer, step_size=10, gamma=0.1)\n",
    "data_path = \"../data\"\n",
    "train_transform = transforms.Compose([\n",
    "    transforms.ToTensor(),\n",
    "    transforms.RandomAffine(\n",
    "        degrees=(-10.0, 10.0),\n",
    "        translate=(0.1, 0.1),\n",
    "        fill=0,\n",
    "    ),\n",
    "    transforms.Normalize((0.1307,), (0.3081,))\n",
    "])\n",
    "test_transform = transforms.Compose([\n",
    "    transforms.ToTensor(),\n",
    "    transforms.Normalize((0.1307,), (0.3081,))\n",
    "])"
   ]
  },
  {
   "cell_type": "code",
   "execution_count": 5,
   "id": "729cdca0",
   "metadata": {},
   "outputs": [],
   "source": [
    "train_loader, test_loader = create_mnist_data_loaders(batch_size, data_path, train_transform=train_transform, test_transform=test_transform)"
   ]
  },
  {
   "cell_type": "code",
   "execution_count": 6,
   "id": "634756f7",
   "metadata": {},
   "outputs": [
    {
     "name": "stderr",
     "output_type": "stream",
     "text": [
      "epoch=01 loss=0.2531 batch_id=0468 accuracy=87.85%: 100%|██████████| 469/469 [00:13<00:00, 34.40it/s]\n"
     ]
    },
    {
     "name": "stdout",
     "output_type": "stream",
     "text": [
      "Test set: Average loss: 0.0880, Accuracy: 9738/10000 (97.38%)\n",
      "\n"
     ]
    },
    {
     "name": "stderr",
     "output_type": "stream",
     "text": [
      "epoch=02 loss=0.1234 batch_id=0468 accuracy=92.99%: 100%|██████████| 469/469 [00:09<00:00, 50.27it/s]\n"
     ]
    },
    {
     "name": "stdout",
     "output_type": "stream",
     "text": [
      "Test set: Average loss: 0.0452, Accuracy: 9863/10000 (98.63%)\n",
      "\n"
     ]
    },
    {
     "name": "stderr",
     "output_type": "stream",
     "text": [
      "epoch=03 loss=0.1608 batch_id=0468 accuracy=93.58%: 100%|██████████| 469/469 [00:09<00:00, 49.99it/s]\n"
     ]
    },
    {
     "name": "stdout",
     "output_type": "stream",
     "text": [
      "Test set: Average loss: 0.0587, Accuracy: 9821/10000 (98.21%)\n",
      "\n"
     ]
    },
    {
     "name": "stderr",
     "output_type": "stream",
     "text": [
      "epoch=04 loss=0.1358 batch_id=0468 accuracy=93.99%: 100%|██████████| 469/469 [00:09<00:00, 50.56it/s]\n"
     ]
    },
    {
     "name": "stdout",
     "output_type": "stream",
     "text": [
      "Test set: Average loss: 0.0341, Accuracy: 9891/10000 (98.91%)\n",
      "\n"
     ]
    },
    {
     "name": "stderr",
     "output_type": "stream",
     "text": [
      "epoch=05 loss=0.2339 batch_id=0468 accuracy=94.04%: 100%|██████████| 469/469 [00:09<00:00, 51.72it/s]\n"
     ]
    },
    {
     "name": "stdout",
     "output_type": "stream",
     "text": [
      "Test set: Average loss: 0.0298, Accuracy: 9905/10000 (99.05%)\n",
      "\n"
     ]
    },
    {
     "name": "stderr",
     "output_type": "stream",
     "text": [
      "epoch=06 loss=0.1302 batch_id=0468 accuracy=94.38%: 100%|██████████| 469/469 [00:09<00:00, 51.75it/s]\n"
     ]
    },
    {
     "name": "stdout",
     "output_type": "stream",
     "text": [
      "Test set: Average loss: 0.0277, Accuracy: 9924/10000 (99.24%)\n",
      "\n"
     ]
    },
    {
     "name": "stderr",
     "output_type": "stream",
     "text": [
      "epoch=07 loss=0.2253 batch_id=0468 accuracy=94.20%: 100%|██████████| 469/469 [00:09<00:00, 50.10it/s]\n"
     ]
    },
    {
     "name": "stdout",
     "output_type": "stream",
     "text": [
      "Test set: Average loss: 0.0259, Accuracy: 9920/10000 (99.20%)\n",
      "\n"
     ]
    },
    {
     "name": "stderr",
     "output_type": "stream",
     "text": [
      "epoch=08 loss=0.1130 batch_id=0468 accuracy=94.44%: 100%|██████████| 469/469 [00:09<00:00, 50.62it/s]\n"
     ]
    },
    {
     "name": "stdout",
     "output_type": "stream",
     "text": [
      "Test set: Average loss: 0.0397, Accuracy: 9877/10000 (98.77%)\n",
      "\n"
     ]
    },
    {
     "name": "stderr",
     "output_type": "stream",
     "text": [
      "epoch=09 loss=0.1194 batch_id=0468 accuracy=94.41%: 100%|██████████| 469/469 [00:09<00:00, 51.47it/s]\n"
     ]
    },
    {
     "name": "stdout",
     "output_type": "stream",
     "text": [
      "Test set: Average loss: 0.0263, Accuracy: 9923/10000 (99.23%)\n",
      "\n"
     ]
    },
    {
     "name": "stderr",
     "output_type": "stream",
     "text": [
      "epoch=10 loss=0.1101 batch_id=0468 accuracy=94.56%: 100%|██████████| 469/469 [00:09<00:00, 51.59it/s]\n"
     ]
    },
    {
     "name": "stdout",
     "output_type": "stream",
     "text": [
      "Test set: Average loss: 0.0292, Accuracy: 9906/10000 (99.06%)\n",
      "\n"
     ]
    },
    {
     "name": "stderr",
     "output_type": "stream",
     "text": [
      "epoch=11 loss=0.1033 batch_id=0468 accuracy=94.85%: 100%|██████████| 469/469 [00:09<00:00, 52.04it/s]\n"
     ]
    },
    {
     "name": "stdout",
     "output_type": "stream",
     "text": [
      "Test set: Average loss: 0.0194, Accuracy: 9942/10000 (99.42%)\n",
      "\n"
     ]
    },
    {
     "name": "stderr",
     "output_type": "stream",
     "text": [
      "epoch=12 loss=0.1362 batch_id=0468 accuracy=95.03%: 100%|██████████| 469/469 [00:09<00:00, 51.87it/s]\n"
     ]
    },
    {
     "name": "stdout",
     "output_type": "stream",
     "text": [
      "Test set: Average loss: 0.0186, Accuracy: 9948/10000 (99.48%)\n",
      "\n"
     ]
    },
    {
     "name": "stderr",
     "output_type": "stream",
     "text": [
      "epoch=13 loss=0.1360 batch_id=0468 accuracy=95.09%: 100%|██████████| 469/469 [00:09<00:00, 52.00it/s]\n"
     ]
    },
    {
     "name": "stdout",
     "output_type": "stream",
     "text": [
      "Test set: Average loss: 0.0182, Accuracy: 9947/10000 (99.47%)\n",
      "\n"
     ]
    },
    {
     "name": "stderr",
     "output_type": "stream",
     "text": [
      "epoch=14 loss=0.0578 batch_id=0468 accuracy=94.87%: 100%|██████████| 469/469 [00:08<00:00, 52.12it/s]\n"
     ]
    },
    {
     "name": "stdout",
     "output_type": "stream",
     "text": [
      "Test set: Average loss: 0.0182, Accuracy: 9944/10000 (99.44%)\n",
      "\n"
     ]
    },
    {
     "name": "stderr",
     "output_type": "stream",
     "text": [
      "epoch=15 loss=0.1090 batch_id=0468 accuracy=95.01%: 100%|██████████| 469/469 [00:09<00:00, 52.04it/s]\n"
     ]
    },
    {
     "name": "stdout",
     "output_type": "stream",
     "text": [
      "Test set: Average loss: 0.0185, Accuracy: 9947/10000 (99.47%)\n",
      "\n"
     ]
    }
   ],
   "source": [
    "train(model, epochs, train_loader, test_loader, loss_fn, optimizer, scheduler=scheduler)"
   ]
  },
  {
   "cell_type": "markdown",
   "id": "8080e354",
   "metadata": {},
   "source": [
    "**Target**\n",
    "\n",
    "Target was to take the previous model, and improve the test accuracy to be above 99.4% in the last few epochs.\n",
    "\n",
    "**Result**\n",
    "\n",
    "The base model was taken from [`Model3`](../src/session_6/model_3.py). No other changes were made to the model. During training, StepLR was applied with step size as 10 and gamma as 0.1, same as with model 3. random rotation of -10 to 10 degrees and random translation of 10% was applied to the training data.\n",
    "\n",
    "Parameter Count: 6174\n",
    "\n",
    "Train Accuracy: 95.01%\n",
    "\n",
    "Test Accuracy: 99.47%\n",
    "\n",
    "**Analysis**\n",
    "\n",
    "Augmentations helped the model to get consistent 99.4%+ in the last 5 epochs. The gap between train and test accuracy was increased a tiny bit, but within acceptable ranges."
   ]
  }
 ],
 "metadata": {
  "kernelspec": {
   "display_name": "session-6 (3.12.11)",
   "language": "python",
   "name": "python3"
  },
  "language_info": {
   "codemirror_mode": {
    "name": "ipython",
    "version": 3
   },
   "file_extension": ".py",
   "mimetype": "text/x-python",
   "name": "python",
   "nbconvert_exporter": "python",
   "pygments_lexer": "ipython3",
   "version": "3.12.11"
  }
 },
 "nbformat": 4,
 "nbformat_minor": 5
}
