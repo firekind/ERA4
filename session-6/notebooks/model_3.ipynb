{
 "cells": [
  {
   "cell_type": "code",
   "execution_count": 1,
   "id": "bf4b30c2",
   "metadata": {},
   "outputs": [],
   "source": [
    "import torch\n",
    "import torch.nn.functional as F\n",
    "import torch.optim as optim\n",
    "import torch.optim.lr_scheduler as lr_scheduler\n",
    "from torchvision import transforms\n",
    "from session_6 import Model3, train, create_mnist_data_loaders\n"
   ]
  },
  {
   "cell_type": "code",
   "execution_count": 2,
   "id": "c3967a61",
   "metadata": {},
   "outputs": [],
   "source": [
    "_ = torch.manual_seed(1)"
   ]
  },
  {
   "cell_type": "code",
   "execution_count": 3,
   "id": "25a981f8",
   "metadata": {},
   "outputs": [
    {
     "name": "stdout",
     "output_type": "stream",
     "text": [
      "----------------------------------------------------------------\n",
      "        Layer (type)               Output Shape         Param #\n",
      "================================================================\n",
      "            Conv2d-1            [-1, 8, 28, 28]              80\n",
      "              ReLU-2            [-1, 8, 28, 28]               0\n",
      "       BatchNorm2d-3            [-1, 8, 28, 28]              16\n",
      "            Conv2d-4            [-1, 8, 28, 28]             584\n",
      "              ReLU-5            [-1, 8, 28, 28]               0\n",
      "       BatchNorm2d-6            [-1, 8, 28, 28]              16\n",
      "         MaxPool2d-7            [-1, 8, 14, 14]               0\n",
      "           Dropout-8            [-1, 8, 14, 14]               0\n",
      "            Conv2d-9           [-1, 12, 14, 14]             876\n",
      "             ReLU-10           [-1, 12, 14, 14]               0\n",
      "      BatchNorm2d-11           [-1, 12, 14, 14]              24\n",
      "           Conv2d-12           [-1, 12, 14, 14]           1,308\n",
      "             ReLU-13           [-1, 12, 14, 14]               0\n",
      "      BatchNorm2d-14           [-1, 12, 14, 14]              24\n",
      "        MaxPool2d-15             [-1, 12, 7, 7]               0\n",
      "          Dropout-16             [-1, 12, 7, 7]               0\n",
      "           Conv2d-17             [-1, 16, 5, 5]           1,744\n",
      "             ReLU-18             [-1, 16, 5, 5]               0\n",
      "      BatchNorm2d-19             [-1, 16, 5, 5]              32\n",
      "           Conv2d-20             [-1, 10, 3, 3]           1,450\n",
      "             ReLU-21             [-1, 10, 3, 3]               0\n",
      "      BatchNorm2d-22             [-1, 10, 3, 3]              20\n",
      "AdaptiveAvgPool2d-23             [-1, 10, 1, 1]               0\n",
      "          Dropout-24             [-1, 10, 1, 1]               0\n",
      "================================================================\n",
      "Total params: 6,174\n",
      "Trainable params: 6,174\n",
      "Non-trainable params: 0\n",
      "----------------------------------------------------------------\n",
      "Input size (MB): 0.00\n",
      "Forward/backward pass size (MB): 0.44\n",
      "Params size (MB): 0.02\n",
      "Estimated Total Size (MB): 0.47\n",
      "----------------------------------------------------------------\n"
     ]
    }
   ],
   "source": [
    "model = Model3()\n",
    "model.summarize()"
   ]
  },
  {
   "cell_type": "code",
   "execution_count": 4,
   "id": "b3d1c60e",
   "metadata": {},
   "outputs": [],
   "source": [
    "epochs = 15\n",
    "batch_size=128\n",
    "loss_fn = F.nll_loss\n",
    "optimizer = optim.Adam(model.parameters(), lr=0.01)\n",
    "scheduler = lr_scheduler.StepLR(optimizer, step_size=10, gamma=0.1)\n",
    "data_path = \"../data\"\n",
    "transform = transforms.Compose([\n",
    "    transforms.ToTensor(),\n",
    "    transforms.Normalize((0.1307,), (0.3081,))\n",
    "])"
   ]
  },
  {
   "cell_type": "code",
   "execution_count": 5,
   "id": "729cdca0",
   "metadata": {},
   "outputs": [],
   "source": [
    "train_loader, test_loader = create_mnist_data_loaders(batch_size, data_path, train_transform=transform, test_transform=transform)"
   ]
  },
  {
   "cell_type": "code",
   "execution_count": 6,
   "id": "634756f7",
   "metadata": {},
   "outputs": [
    {
     "name": "stderr",
     "output_type": "stream",
     "text": [
      "epoch=01 loss=0.2709 batch_id=0468 accuracy=90.57%: 100%|██████████| 469/469 [00:05<00:00, 86.87it/s]\n"
     ]
    },
    {
     "name": "stdout",
     "output_type": "stream",
     "text": [
      "Test set: Average loss: 0.0682, Accuracy: 9814/10000 (98.14%)\n",
      "\n"
     ]
    },
    {
     "name": "stderr",
     "output_type": "stream",
     "text": [
      "epoch=02 loss=0.1380 batch_id=0468 accuracy=94.18%: 100%|██████████| 469/469 [00:04<00:00, 96.93it/s] \n"
     ]
    },
    {
     "name": "stdout",
     "output_type": "stream",
     "text": [
      "Test set: Average loss: 0.0492, Accuracy: 9853/10000 (98.53%)\n",
      "\n"
     ]
    },
    {
     "name": "stderr",
     "output_type": "stream",
     "text": [
      "epoch=03 loss=0.1142 batch_id=0468 accuracy=94.63%: 100%|██████████| 469/469 [00:05<00:00, 91.29it/s]\n"
     ]
    },
    {
     "name": "stdout",
     "output_type": "stream",
     "text": [
      "Test set: Average loss: 0.0402, Accuracy: 9882/10000 (98.82%)\n",
      "\n"
     ]
    },
    {
     "name": "stderr",
     "output_type": "stream",
     "text": [
      "epoch=04 loss=0.1273 batch_id=0468 accuracy=94.82%: 100%|██████████| 469/469 [00:04<00:00, 97.37it/s] \n"
     ]
    },
    {
     "name": "stdout",
     "output_type": "stream",
     "text": [
      "Test set: Average loss: 0.0358, Accuracy: 9899/10000 (98.99%)\n",
      "\n"
     ]
    },
    {
     "name": "stderr",
     "output_type": "stream",
     "text": [
      "epoch=05 loss=0.1636 batch_id=0468 accuracy=94.83%: 100%|██████████| 469/469 [00:04<00:00, 95.04it/s] \n"
     ]
    },
    {
     "name": "stdout",
     "output_type": "stream",
     "text": [
      "Test set: Average loss: 0.0285, Accuracy: 9913/10000 (99.13%)\n",
      "\n"
     ]
    },
    {
     "name": "stderr",
     "output_type": "stream",
     "text": [
      "epoch=06 loss=0.0826 batch_id=0468 accuracy=95.24%: 100%|██████████| 469/469 [00:05<00:00, 93.10it/s] \n"
     ]
    },
    {
     "name": "stdout",
     "output_type": "stream",
     "text": [
      "Test set: Average loss: 0.0299, Accuracy: 9894/10000 (98.94%)\n",
      "\n"
     ]
    },
    {
     "name": "stderr",
     "output_type": "stream",
     "text": [
      "epoch=07 loss=0.0976 batch_id=0468 accuracy=95.25%: 100%|██████████| 469/469 [00:04<00:00, 95.84it/s] \n"
     ]
    },
    {
     "name": "stdout",
     "output_type": "stream",
     "text": [
      "Test set: Average loss: 0.0242, Accuracy: 9922/10000 (99.22%)\n",
      "\n"
     ]
    },
    {
     "name": "stderr",
     "output_type": "stream",
     "text": [
      "epoch=08 loss=0.0523 batch_id=0468 accuracy=95.25%: 100%|██████████| 469/469 [00:04<00:00, 94.89it/s]\n"
     ]
    },
    {
     "name": "stdout",
     "output_type": "stream",
     "text": [
      "Test set: Average loss: 0.0319, Accuracy: 9905/10000 (99.05%)\n",
      "\n"
     ]
    },
    {
     "name": "stderr",
     "output_type": "stream",
     "text": [
      "epoch=09 loss=0.0249 batch_id=0468 accuracy=95.16%: 100%|██████████| 469/469 [00:04<00:00, 94.00it/s]\n"
     ]
    },
    {
     "name": "stdout",
     "output_type": "stream",
     "text": [
      "Test set: Average loss: 0.0217, Accuracy: 9928/10000 (99.28%)\n",
      "\n"
     ]
    },
    {
     "name": "stderr",
     "output_type": "stream",
     "text": [
      "epoch=10 loss=0.2502 batch_id=0468 accuracy=95.31%: 100%|██████████| 469/469 [00:04<00:00, 95.41it/s] \n"
     ]
    },
    {
     "name": "stdout",
     "output_type": "stream",
     "text": [
      "Test set: Average loss: 0.0245, Accuracy: 9924/10000 (99.24%)\n",
      "\n"
     ]
    },
    {
     "name": "stderr",
     "output_type": "stream",
     "text": [
      "epoch=11 loss=0.0588 batch_id=0468 accuracy=95.62%: 100%|██████████| 469/469 [00:05<00:00, 91.83it/s]\n"
     ]
    },
    {
     "name": "stdout",
     "output_type": "stream",
     "text": [
      "Test set: Average loss: 0.0180, Accuracy: 9942/10000 (99.42%)\n",
      "\n"
     ]
    },
    {
     "name": "stderr",
     "output_type": "stream",
     "text": [
      "epoch=12 loss=0.1221 batch_id=0468 accuracy=95.77%: 100%|██████████| 469/469 [00:05<00:00, 92.45it/s]\n"
     ]
    },
    {
     "name": "stdout",
     "output_type": "stream",
     "text": [
      "Test set: Average loss: 0.0181, Accuracy: 9942/10000 (99.42%)\n",
      "\n"
     ]
    },
    {
     "name": "stderr",
     "output_type": "stream",
     "text": [
      "epoch=13 loss=0.1471 batch_id=0468 accuracy=95.76%: 100%|██████████| 469/469 [00:04<00:00, 94.23it/s] \n"
     ]
    },
    {
     "name": "stdout",
     "output_type": "stream",
     "text": [
      "Test set: Average loss: 0.0182, Accuracy: 9941/10000 (99.41%)\n",
      "\n"
     ]
    },
    {
     "name": "stderr",
     "output_type": "stream",
     "text": [
      "epoch=14 loss=0.1047 batch_id=0468 accuracy=95.83%: 100%|██████████| 469/469 [00:04<00:00, 94.71it/s] \n"
     ]
    },
    {
     "name": "stdout",
     "output_type": "stream",
     "text": [
      "Test set: Average loss: 0.0180, Accuracy: 9942/10000 (99.42%)\n",
      "\n"
     ]
    },
    {
     "name": "stderr",
     "output_type": "stream",
     "text": [
      "epoch=15 loss=0.0804 batch_id=0468 accuracy=95.79%: 100%|██████████| 469/469 [00:04<00:00, 94.41it/s] \n"
     ]
    },
    {
     "name": "stdout",
     "output_type": "stream",
     "text": [
      "Test set: Average loss: 0.0193, Accuracy: 9939/10000 (99.39%)\n",
      "\n"
     ]
    }
   ],
   "source": [
    "train(model, epochs, train_loader, test_loader, loss_fn, optimizer, scheduler=scheduler)"
   ]
  },
  {
   "cell_type": "markdown",
   "id": "8080e354",
   "metadata": {},
   "source": [
    "**Target**\n",
    "\n",
    "Target was to take the previous model, and improve and stablize the accuracies using lr schedulers.\n",
    "\n",
    "**Result**\n",
    "\n",
    "The base model was taken from [`Model2`](../src/session_6/model_2.py). No other changes were made to the model. During training, StepLR was applied with step size as 10 and gamma as 0.1\n",
    "\n",
    "Parameter Count: 6174\n",
    "\n",
    "Train Accuracy: 95.79%\n",
    "\n",
    "Test Accuracy: 99.39%\n",
    "\n",
    "**Analysis**\n",
    "\n",
    "StepLR helped! Although test accuracy of epoch 15 is 99.39%, test accuracies of epoch 11 to 14 were always above 99.4%. The model can do better if pushed more. Since the data is MNIST, some random rotation transform can be applied. Only a little should be applied, too much would cause the model to underfit again."
   ]
  }
 ],
 "metadata": {
  "kernelspec": {
   "display_name": "session-6 (3.12.11)",
   "language": "python",
   "name": "python3"
  },
  "language_info": {
   "codemirror_mode": {
    "name": "ipython",
    "version": 3
   },
   "file_extension": ".py",
   "mimetype": "text/x-python",
   "name": "python",
   "nbconvert_exporter": "python",
   "pygments_lexer": "ipython3",
   "version": "3.12.11"
  }
 },
 "nbformat": 4,
 "nbformat_minor": 5
}
