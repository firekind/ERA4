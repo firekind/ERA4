{
 "cells": [
  {
   "cell_type": "code",
   "execution_count": 1,
   "id": "bf4b30c2",
   "metadata": {},
   "outputs": [],
   "source": [
    "import torch\n",
    "import torch.nn.functional as F\n",
    "import torch.optim as optim\n",
    "from torchvision import transforms\n",
    "from session_6 import Model2, train, create_mnist_data_loaders\n"
   ]
  },
  {
   "cell_type": "code",
   "execution_count": 2,
   "id": "c3967a61",
   "metadata": {},
   "outputs": [],
   "source": [
    "_ = torch.manual_seed(1)"
   ]
  },
  {
   "cell_type": "code",
   "execution_count": 3,
   "id": "25a981f8",
   "metadata": {},
   "outputs": [
    {
     "name": "stdout",
     "output_type": "stream",
     "text": [
      "----------------------------------------------------------------\n",
      "        Layer (type)               Output Shape         Param #\n",
      "================================================================\n",
      "            Conv2d-1            [-1, 8, 28, 28]              80\n",
      "              ReLU-2            [-1, 8, 28, 28]               0\n",
      "       BatchNorm2d-3            [-1, 8, 28, 28]              16\n",
      "            Conv2d-4            [-1, 8, 28, 28]             584\n",
      "              ReLU-5            [-1, 8, 28, 28]               0\n",
      "       BatchNorm2d-6            [-1, 8, 28, 28]              16\n",
      "         MaxPool2d-7            [-1, 8, 14, 14]               0\n",
      "           Dropout-8            [-1, 8, 14, 14]               0\n",
      "            Conv2d-9           [-1, 12, 14, 14]             876\n",
      "             ReLU-10           [-1, 12, 14, 14]               0\n",
      "      BatchNorm2d-11           [-1, 12, 14, 14]              24\n",
      "           Conv2d-12           [-1, 12, 14, 14]           1,308\n",
      "             ReLU-13           [-1, 12, 14, 14]               0\n",
      "      BatchNorm2d-14           [-1, 12, 14, 14]              24\n",
      "        MaxPool2d-15             [-1, 12, 7, 7]               0\n",
      "          Dropout-16             [-1, 12, 7, 7]               0\n",
      "           Conv2d-17             [-1, 16, 5, 5]           1,744\n",
      "             ReLU-18             [-1, 16, 5, 5]               0\n",
      "      BatchNorm2d-19             [-1, 16, 5, 5]              32\n",
      "           Conv2d-20             [-1, 10, 3, 3]           1,450\n",
      "             ReLU-21             [-1, 10, 3, 3]               0\n",
      "      BatchNorm2d-22             [-1, 10, 3, 3]              20\n",
      "AdaptiveAvgPool2d-23             [-1, 10, 1, 1]               0\n",
      "          Dropout-24             [-1, 10, 1, 1]               0\n",
      "================================================================\n",
      "Total params: 6,174\n",
      "Trainable params: 6,174\n",
      "Non-trainable params: 0\n",
      "----------------------------------------------------------------\n",
      "Input size (MB): 0.00\n",
      "Forward/backward pass size (MB): 0.44\n",
      "Params size (MB): 0.02\n",
      "Estimated Total Size (MB): 0.47\n",
      "----------------------------------------------------------------\n"
     ]
    }
   ],
   "source": [
    "model = Model2()\n",
    "model.summarize()"
   ]
  },
  {
   "cell_type": "code",
   "execution_count": 4,
   "id": "b3d1c60e",
   "metadata": {},
   "outputs": [],
   "source": [
    "epochs = 15\n",
    "batch_size=128\n",
    "loss_fn = F.nll_loss\n",
    "optimizer = optim.Adam(model.parameters(), lr=0.01)\n",
    "data_path = \"../data\"\n",
    "transform = transforms.Compose([\n",
    "    transforms.ToTensor(),\n",
    "    transforms.Normalize((0.1307,), (0.3081,))\n",
    "])"
   ]
  },
  {
   "cell_type": "code",
   "execution_count": 5,
   "id": "729cdca0",
   "metadata": {},
   "outputs": [],
   "source": [
    "train_loader, test_loader = create_mnist_data_loaders(batch_size, data_path, train_transform=transform, test_transform=transform)"
   ]
  },
  {
   "cell_type": "code",
   "execution_count": 6,
   "id": "634756f7",
   "metadata": {},
   "outputs": [
    {
     "name": "stderr",
     "output_type": "stream",
     "text": [
      "epoch=01 loss=0.2709 batch_id=0468 accuracy=90.57%: 100%|██████████| 469/469 [00:05<00:00, 91.21it/s] \n"
     ]
    },
    {
     "name": "stdout",
     "output_type": "stream",
     "text": [
      "Test set: Average loss: 0.0682, Accuracy: 9814/10000 (98.14%)\n",
      "\n"
     ]
    },
    {
     "name": "stderr",
     "output_type": "stream",
     "text": [
      "epoch=02 loss=0.1380 batch_id=0468 accuracy=94.18%: 100%|██████████| 469/469 [00:05<00:00, 91.66it/s]\n"
     ]
    },
    {
     "name": "stdout",
     "output_type": "stream",
     "text": [
      "Test set: Average loss: 0.0492, Accuracy: 9853/10000 (98.53%)\n",
      "\n"
     ]
    },
    {
     "name": "stderr",
     "output_type": "stream",
     "text": [
      "epoch=03 loss=0.1142 batch_id=0468 accuracy=94.63%: 100%|██████████| 469/469 [00:04<00:00, 95.07it/s]\n"
     ]
    },
    {
     "name": "stdout",
     "output_type": "stream",
     "text": [
      "Test set: Average loss: 0.0402, Accuracy: 9882/10000 (98.82%)\n",
      "\n"
     ]
    },
    {
     "name": "stderr",
     "output_type": "stream",
     "text": [
      "epoch=04 loss=0.1273 batch_id=0468 accuracy=94.82%: 100%|██████████| 469/469 [00:05<00:00, 92.77it/s]\n"
     ]
    },
    {
     "name": "stdout",
     "output_type": "stream",
     "text": [
      "Test set: Average loss: 0.0358, Accuracy: 9899/10000 (98.99%)\n",
      "\n"
     ]
    },
    {
     "name": "stderr",
     "output_type": "stream",
     "text": [
      "epoch=05 loss=0.1636 batch_id=0468 accuracy=94.83%: 100%|██████████| 469/469 [00:05<00:00, 92.83it/s]\n"
     ]
    },
    {
     "name": "stdout",
     "output_type": "stream",
     "text": [
      "Test set: Average loss: 0.0285, Accuracy: 9913/10000 (99.13%)\n",
      "\n"
     ]
    },
    {
     "name": "stderr",
     "output_type": "stream",
     "text": [
      "epoch=06 loss=0.0826 batch_id=0468 accuracy=95.24%: 100%|██████████| 469/469 [00:04<00:00, 94.12it/s]\n"
     ]
    },
    {
     "name": "stdout",
     "output_type": "stream",
     "text": [
      "Test set: Average loss: 0.0299, Accuracy: 9894/10000 (98.94%)\n",
      "\n"
     ]
    },
    {
     "name": "stderr",
     "output_type": "stream",
     "text": [
      "epoch=07 loss=0.0976 batch_id=0468 accuracy=95.25%: 100%|██████████| 469/469 [00:04<00:00, 95.14it/s]\n"
     ]
    },
    {
     "name": "stdout",
     "output_type": "stream",
     "text": [
      "Test set: Average loss: 0.0242, Accuracy: 9922/10000 (99.22%)\n",
      "\n"
     ]
    },
    {
     "name": "stderr",
     "output_type": "stream",
     "text": [
      "epoch=08 loss=0.0523 batch_id=0468 accuracy=95.25%: 100%|██████████| 469/469 [00:05<00:00, 92.66it/s]\n"
     ]
    },
    {
     "name": "stdout",
     "output_type": "stream",
     "text": [
      "Test set: Average loss: 0.0319, Accuracy: 9905/10000 (99.05%)\n",
      "\n"
     ]
    },
    {
     "name": "stderr",
     "output_type": "stream",
     "text": [
      "epoch=09 loss=0.0249 batch_id=0468 accuracy=95.16%: 100%|██████████| 469/469 [00:05<00:00, 92.52it/s]\n"
     ]
    },
    {
     "name": "stdout",
     "output_type": "stream",
     "text": [
      "Test set: Average loss: 0.0217, Accuracy: 9928/10000 (99.28%)\n",
      "\n"
     ]
    },
    {
     "name": "stderr",
     "output_type": "stream",
     "text": [
      "epoch=10 loss=0.2502 batch_id=0468 accuracy=95.31%: 100%|██████████| 469/469 [00:05<00:00, 91.88it/s]\n"
     ]
    },
    {
     "name": "stdout",
     "output_type": "stream",
     "text": [
      "Test set: Average loss: 0.0245, Accuracy: 9924/10000 (99.24%)\n",
      "\n"
     ]
    },
    {
     "name": "stderr",
     "output_type": "stream",
     "text": [
      "epoch=11 loss=0.0742 batch_id=0468 accuracy=95.43%: 100%|██████████| 469/469 [00:04<00:00, 95.46it/s]\n"
     ]
    },
    {
     "name": "stdout",
     "output_type": "stream",
     "text": [
      "Test set: Average loss: 0.0247, Accuracy: 9927/10000 (99.27%)\n",
      "\n"
     ]
    },
    {
     "name": "stderr",
     "output_type": "stream",
     "text": [
      "epoch=12 loss=0.1375 batch_id=0468 accuracy=95.45%: 100%|██████████| 469/469 [00:04<00:00, 93.85it/s]\n"
     ]
    },
    {
     "name": "stdout",
     "output_type": "stream",
     "text": [
      "Test set: Average loss: 0.0289, Accuracy: 9911/10000 (99.11%)\n",
      "\n"
     ]
    },
    {
     "name": "stderr",
     "output_type": "stream",
     "text": [
      "epoch=13 loss=0.2064 batch_id=0468 accuracy=95.45%: 100%|██████████| 469/469 [00:04<00:00, 94.78it/s]\n"
     ]
    },
    {
     "name": "stdout",
     "output_type": "stream",
     "text": [
      "Test set: Average loss: 0.0193, Accuracy: 9934/10000 (99.34%)\n",
      "\n"
     ]
    },
    {
     "name": "stderr",
     "output_type": "stream",
     "text": [
      "epoch=14 loss=0.1354 batch_id=0468 accuracy=95.50%: 100%|██████████| 469/469 [00:05<00:00, 92.56it/s]\n"
     ]
    },
    {
     "name": "stdout",
     "output_type": "stream",
     "text": [
      "Test set: Average loss: 0.0232, Accuracy: 9931/10000 (99.31%)\n",
      "\n"
     ]
    },
    {
     "name": "stderr",
     "output_type": "stream",
     "text": [
      "epoch=15 loss=0.0939 batch_id=0468 accuracy=95.47%: 100%|██████████| 469/469 [00:05<00:00, 92.76it/s]\n"
     ]
    },
    {
     "name": "stdout",
     "output_type": "stream",
     "text": [
      "Test set: Average loss: 0.0249, Accuracy: 9917/10000 (99.17%)\n",
      "\n"
     ]
    }
   ],
   "source": [
    "train(model, epochs, train_loader, test_loader, loss_fn, optimizer)"
   ]
  },
  {
   "cell_type": "markdown",
   "id": "8080e354",
   "metadata": {},
   "source": [
    "**Target**\n",
    "\n",
    "Target was to take the previous model, and minimize train accuracy - test accuracy gap.\n",
    "\n",
    "**Result**\n",
    "\n",
    "The base model was taken from [`Model1`](../src/session_6/model_1.py). Probability of drop out in each block is set to 10% (compared to 20% in [`Model1`](../src/session_6/model_1.py))\n",
    "\n",
    "Parameter Count: 6174\n",
    "\n",
    "Train Accuracy: 95.47%\n",
    "\n",
    "Test Accuracy: 99.17%\n",
    "\n",
    "**Analysis**\n",
    "\n",
    "Gap between train and test accuracy has reduced a lot, which is good. Overall accuracy still not reached 99.4%, and accuracies are not that stable in the last few epochs. Can try out LR schedulers to reduce the learning rate in the last few epochs, which should stablize the model."
   ]
  }
 ],
 "metadata": {
  "kernelspec": {
   "display_name": "session-6 (3.12.11)",
   "language": "python",
   "name": "python3"
  },
  "language_info": {
   "codemirror_mode": {
    "name": "ipython",
    "version": 3
   },
   "file_extension": ".py",
   "mimetype": "text/x-python",
   "name": "python",
   "nbconvert_exporter": "python",
   "pygments_lexer": "ipython3",
   "version": "3.12.11"
  }
 },
 "nbformat": 4,
 "nbformat_minor": 5
}
