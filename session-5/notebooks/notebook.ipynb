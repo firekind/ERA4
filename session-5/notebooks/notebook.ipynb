{
 "cells": [
  {
   "cell_type": "code",
   "execution_count": 1,
   "id": "6de0c569",
   "metadata": {},
   "outputs": [],
   "source": [
    "import torch\n",
    "import torch.nn as nn\n",
    "import torch.nn.functional as F\n",
    "import torch.optim as optim\n",
    "from torchvision import datasets, transforms\n",
    "\n",
    "from torchsummary import summary\n",
    "from tqdm import tqdm"
   ]
  },
  {
   "cell_type": "code",
   "execution_count": 2,
   "id": "256e487d",
   "metadata": {},
   "outputs": [],
   "source": [
    "use_cuda = torch.cuda.is_available()\n",
    "use_mps = torch.backends.mps.is_available()\n",
    "device: str\n",
    "if use_cuda:\n",
    "    device = \"cuda\"\n",
    "elif use_mps:\n",
    "    device = \"mps\"\n",
    "else:\n",
    "    device = \"cpu\""
   ]
  },
  {
   "cell_type": "code",
   "execution_count": 3,
   "id": "2cd1b716",
   "metadata": {},
   "outputs": [],
   "source": [
    "class Net(nn.Module):\n",
    "    def __init__(self):\n",
    "        super(Net, self).__init__()\n",
    "        self.block1 = nn.Sequential(\n",
    "            nn.Conv2d(1, 8, 3, padding=1),\n",
    "            nn.ReLU(),\n",
    "            nn.BatchNorm2d(8),\n",
    "            nn.Conv2d(8, 8, 3, padding=1),\n",
    "            nn.ReLU(),\n",
    "            nn.BatchNorm2d(8),\n",
    "            nn.MaxPool2d(2, 2),\n",
    "            nn.Dropout(0.20),\n",
    "        )\n",
    "\n",
    "        self.block2 = nn.Sequential(\n",
    "            nn.Conv2d(8, 16, 3, padding=1),\n",
    "            nn.ReLU(),\n",
    "            nn.BatchNorm2d(16),\n",
    "            nn.Conv2d(16, 16, 3, padding=1),\n",
    "            nn.ReLU(),\n",
    "            nn.BatchNorm2d(16),\n",
    "            nn.MaxPool2d(2, 2),\n",
    "            nn.Dropout(0.20),\n",
    "        )\n",
    "\n",
    "        self.block3 = nn.Sequential(\n",
    "            nn.Conv2d(16, 16, 3),\n",
    "            nn.ReLU(),\n",
    "            nn.BatchNorm2d(16),\n",
    "            nn.Conv2d(16, 10, 3),\n",
    "            nn.ReLU(),\n",
    "            nn.BatchNorm2d(10),\n",
    "            nn.AdaptiveAvgPool2d((1, 1)),\n",
    "            nn.Dropout(0.20),\n",
    "        )\n",
    "\n",
    "    def forward(self, x):\n",
    "        x = self.block1(x)\n",
    "        x = self.block2(x)\n",
    "        x = self.block3(x)\n",
    "        x = x.view(x.size(0), -1)\n",
    "        return F.log_softmax(x, dim=1)\n",
    "\n",
    "    def summarize(self):\n",
    "        summary(self, input_size=(1, 28, 28))"
   ]
  },
  {
   "cell_type": "code",
   "execution_count": 4,
   "id": "4459664f",
   "metadata": {},
   "outputs": [
    {
     "name": "stdout",
     "output_type": "stream",
     "text": [
      "----------------------------------------------------------------\n",
      "        Layer (type)               Output Shape         Param #\n",
      "================================================================\n",
      "            Conv2d-1            [-1, 8, 28, 28]              80\n",
      "              ReLU-2            [-1, 8, 28, 28]               0\n",
      "       BatchNorm2d-3            [-1, 8, 28, 28]              16\n",
      "            Conv2d-4            [-1, 8, 28, 28]             584\n",
      "              ReLU-5            [-1, 8, 28, 28]               0\n",
      "       BatchNorm2d-6            [-1, 8, 28, 28]              16\n",
      "         MaxPool2d-7            [-1, 8, 14, 14]               0\n",
      "           Dropout-8            [-1, 8, 14, 14]               0\n",
      "            Conv2d-9           [-1, 16, 14, 14]           1,168\n",
      "             ReLU-10           [-1, 16, 14, 14]               0\n",
      "      BatchNorm2d-11           [-1, 16, 14, 14]              32\n",
      "           Conv2d-12           [-1, 16, 14, 14]           2,320\n",
      "             ReLU-13           [-1, 16, 14, 14]               0\n",
      "      BatchNorm2d-14           [-1, 16, 14, 14]              32\n",
      "        MaxPool2d-15             [-1, 16, 7, 7]               0\n",
      "          Dropout-16             [-1, 16, 7, 7]               0\n",
      "           Conv2d-17             [-1, 16, 5, 5]           2,320\n",
      "             ReLU-18             [-1, 16, 5, 5]               0\n",
      "      BatchNorm2d-19             [-1, 16, 5, 5]              32\n",
      "           Conv2d-20             [-1, 10, 3, 3]           1,450\n",
      "             ReLU-21             [-1, 10, 3, 3]               0\n",
      "      BatchNorm2d-22             [-1, 10, 3, 3]              20\n",
      "AdaptiveAvgPool2d-23             [-1, 10, 1, 1]               0\n",
      "          Dropout-24             [-1, 10, 1, 1]               0\n",
      "================================================================\n",
      "Total params: 8,070\n",
      "Trainable params: 8,070\n",
      "Non-trainable params: 0\n",
      "----------------------------------------------------------------\n",
      "Input size (MB): 0.00\n",
      "Forward/backward pass size (MB): 0.48\n",
      "Params size (MB): 0.03\n",
      "Estimated Total Size (MB): 0.51\n",
      "----------------------------------------------------------------\n"
     ]
    }
   ],
   "source": [
    "Net().summarize()"
   ]
  },
  {
   "cell_type": "code",
   "execution_count": 5,
   "id": "7d056972",
   "metadata": {},
   "outputs": [],
   "source": [
    "torch.manual_seed(1)\n",
    "batch_size = 64\n",
    "kwargs = {\"num_workers\": 1, \"pin_memory\": True} if device == \"cuda\" else {}\n",
    "\n",
    "# Define transforms\n",
    "transform = transforms.Compose([\n",
    "    transforms.ToTensor(),\n",
    "    transforms.Normalize((0.1307,), (0.3081,))  # MNIST mean and std\n",
    "])\n",
    "\n",
    "# Download and create datasets\n",
    "train_dataset = datasets.MNIST(\n",
    "    root='../data', \n",
    "    train=True, \n",
    "    download=True, \n",
    "    transform=transform\n",
    ")\n",
    "\n",
    "test_dataset = datasets.MNIST(\n",
    "    root='../data', \n",
    "    train=False, \n",
    "    download=True, \n",
    "    transform=transform\n",
    ")\n",
    "\n",
    "# Create data loaders\n",
    "train_loader = torch.utils.data.DataLoader(\n",
    "    train_dataset, \n",
    "    batch_size=batch_size, \n",
    "    shuffle=True,\n",
    "    **kwargs,\n",
    ")\n",
    "\n",
    "test_loader = torch.utils.data.DataLoader(\n",
    "    test_dataset, \n",
    "    batch_size=1000, \n",
    "    shuffle=False,\n",
    "    **kwargs,\n",
    ")"
   ]
  },
  {
   "cell_type": "code",
   "execution_count": 6,
   "id": "fa24de91",
   "metadata": {},
   "outputs": [],
   "source": [
    "def train_step(epoch, model, device, train_loader, optimizer):\n",
    "    model.train()\n",
    "    pbar = tqdm(train_loader)\n",
    "    correct = 0\n",
    "    processed = 0\n",
    "\n",
    "    for batch_idx, (data, target) in enumerate(pbar):\n",
    "        data, target = data.to(device), target.to(device)\n",
    "        optimizer.zero_grad()\n",
    "        output = model(data)\n",
    "\n",
    "        loss = F.nll_loss(output, target)\n",
    "        loss.backward()\n",
    "        optimizer.step()\n",
    "        \n",
    "        # Calculate accuracy\n",
    "        pred = output.argmax(dim=1, keepdim=True)\n",
    "        correct += pred.eq(target.view_as(pred)).sum().item()\n",
    "        processed += len(data)\n",
    "        \n",
    "        pbar.set_description(desc=f\"epoch={epoch:02d} loss={loss.item():.4f} batch_id={batch_idx:04d} accuracy={100*correct/processed:.2f}%\")\n",
    "\n",
    "\n",
    "def test_step(model, device, test_loader):\n",
    "    model.eval()\n",
    "    test_loss = 0\n",
    "    correct = 0\n",
    "    with torch.no_grad():\n",
    "        for data, target in test_loader:\n",
    "            data, target = data.to(device), target.to(device)\n",
    "            output = model(data)\n",
    "            test_loss += F.nll_loss(output, target, reduction=\"mean\").item()\n",
    "            pred = output.argmax(dim=1, keepdim=True)\n",
    "            correct += pred.eq(target.view_as(pred)).sum().item()\n",
    "\n",
    "    test_loss /= len(test_loader)  # Average loss across batches\n",
    "\n",
    "    print(\n",
    "        \"Test set: Average loss: {:.4f}, Accuracy: {}/{} ({:.2f}%)\\n\".format(\n",
    "            test_loss,\n",
    "            correct,\n",
    "            len(test_loader.dataset),\n",
    "            100.0 * correct / len(test_loader.dataset),\n",
    "        )\n",
    "    )"
   ]
  },
  {
   "cell_type": "code",
   "execution_count": 7,
   "id": "ab2fadc9",
   "metadata": {},
   "outputs": [
    {
     "name": "stderr",
     "output_type": "stream",
     "text": [
      "epoch=01 loss=0.3911 batch_id=0937 accuracy=83.33%: 100%|██████████| 938/938 [00:08<00:00, 110.16it/s]\n"
     ]
    },
    {
     "name": "stdout",
     "output_type": "stream",
     "text": [
      "Test set: Average loss: 0.0567, Accuracy: 9829/10000 (98.29%)\n",
      "\n"
     ]
    },
    {
     "name": "stderr",
     "output_type": "stream",
     "text": [
      "epoch=02 loss=0.3151 batch_id=0937 accuracy=86.32%: 100%|██████████| 938/938 [00:08<00:00, 114.43it/s]\n"
     ]
    },
    {
     "name": "stdout",
     "output_type": "stream",
     "text": [
      "Test set: Average loss: 0.0370, Accuracy: 9884/10000 (98.84%)\n",
      "\n"
     ]
    },
    {
     "name": "stderr",
     "output_type": "stream",
     "text": [
      "epoch=03 loss=0.4425 batch_id=0937 accuracy=86.77%: 100%|██████████| 938/938 [00:08<00:00, 110.87it/s]\n"
     ]
    },
    {
     "name": "stdout",
     "output_type": "stream",
     "text": [
      "Test set: Average loss: 0.0383, Accuracy: 9884/10000 (98.84%)\n",
      "\n"
     ]
    },
    {
     "name": "stderr",
     "output_type": "stream",
     "text": [
      "epoch=04 loss=0.7033 batch_id=0937 accuracy=86.91%: 100%|██████████| 938/938 [00:08<00:00, 116.45it/s]\n"
     ]
    },
    {
     "name": "stdout",
     "output_type": "stream",
     "text": [
      "Test set: Average loss: 0.0414, Accuracy: 9877/10000 (98.77%)\n",
      "\n"
     ]
    },
    {
     "name": "stderr",
     "output_type": "stream",
     "text": [
      "epoch=05 loss=0.3970 batch_id=0937 accuracy=87.32%: 100%|██████████| 938/938 [00:08<00:00, 111.97it/s]\n"
     ]
    },
    {
     "name": "stdout",
     "output_type": "stream",
     "text": [
      "Test set: Average loss: 0.0297, Accuracy: 9910/10000 (99.10%)\n",
      "\n"
     ]
    },
    {
     "name": "stderr",
     "output_type": "stream",
     "text": [
      "epoch=06 loss=0.3769 batch_id=0937 accuracy=87.36%: 100%|██████████| 938/938 [00:08<00:00, 111.03it/s]\n"
     ]
    },
    {
     "name": "stdout",
     "output_type": "stream",
     "text": [
      "Test set: Average loss: 0.0308, Accuracy: 9902/10000 (99.02%)\n",
      "\n"
     ]
    },
    {
     "name": "stderr",
     "output_type": "stream",
     "text": [
      "epoch=07 loss=0.3905 batch_id=0937 accuracy=87.67%: 100%|██████████| 938/938 [00:08<00:00, 111.79it/s]\n"
     ]
    },
    {
     "name": "stdout",
     "output_type": "stream",
     "text": [
      "Test set: Average loss: 0.0300, Accuracy: 9912/10000 (99.12%)\n",
      "\n"
     ]
    },
    {
     "name": "stderr",
     "output_type": "stream",
     "text": [
      "epoch=08 loss=0.1580 batch_id=0937 accuracy=87.67%: 100%|██████████| 938/938 [00:08<00:00, 112.25it/s]\n"
     ]
    },
    {
     "name": "stdout",
     "output_type": "stream",
     "text": [
      "Test set: Average loss: 0.0293, Accuracy: 9900/10000 (99.00%)\n",
      "\n"
     ]
    },
    {
     "name": "stderr",
     "output_type": "stream",
     "text": [
      "epoch=09 loss=0.1650 batch_id=0937 accuracy=87.46%: 100%|██████████| 938/938 [00:08<00:00, 112.56it/s]\n"
     ]
    },
    {
     "name": "stdout",
     "output_type": "stream",
     "text": [
      "Test set: Average loss: 0.0231, Accuracy: 9926/10000 (99.26%)\n",
      "\n"
     ]
    },
    {
     "name": "stderr",
     "output_type": "stream",
     "text": [
      "epoch=10 loss=0.2020 batch_id=0937 accuracy=87.65%: 100%|██████████| 938/938 [00:08<00:00, 109.69it/s]\n"
     ]
    },
    {
     "name": "stdout",
     "output_type": "stream",
     "text": [
      "Test set: Average loss: 0.0275, Accuracy: 9919/10000 (99.19%)\n",
      "\n"
     ]
    },
    {
     "name": "stderr",
     "output_type": "stream",
     "text": [
      "epoch=11 loss=0.1691 batch_id=0937 accuracy=87.74%: 100%|██████████| 938/938 [00:08<00:00, 114.99it/s]\n"
     ]
    },
    {
     "name": "stdout",
     "output_type": "stream",
     "text": [
      "Test set: Average loss: 0.0214, Accuracy: 9939/10000 (99.39%)\n",
      "\n"
     ]
    },
    {
     "name": "stderr",
     "output_type": "stream",
     "text": [
      "epoch=12 loss=0.1616 batch_id=0937 accuracy=87.74%: 100%|██████████| 938/938 [00:08<00:00, 115.67it/s]\n"
     ]
    },
    {
     "name": "stdout",
     "output_type": "stream",
     "text": [
      "Test set: Average loss: 0.0227, Accuracy: 9926/10000 (99.26%)\n",
      "\n"
     ]
    },
    {
     "name": "stderr",
     "output_type": "stream",
     "text": [
      "epoch=13 loss=0.2603 batch_id=0937 accuracy=88.06%: 100%|██████████| 938/938 [00:08<00:00, 115.08it/s]\n"
     ]
    },
    {
     "name": "stdout",
     "output_type": "stream",
     "text": [
      "Test set: Average loss: 0.0256, Accuracy: 9911/10000 (99.11%)\n",
      "\n"
     ]
    },
    {
     "name": "stderr",
     "output_type": "stream",
     "text": [
      "epoch=14 loss=0.2949 batch_id=0937 accuracy=87.80%: 100%|██████████| 938/938 [00:08<00:00, 114.78it/s]\n"
     ]
    },
    {
     "name": "stdout",
     "output_type": "stream",
     "text": [
      "Test set: Average loss: 0.0285, Accuracy: 9903/10000 (99.03%)\n",
      "\n"
     ]
    },
    {
     "name": "stderr",
     "output_type": "stream",
     "text": [
      "epoch=15 loss=0.2100 batch_id=0937 accuracy=87.82%: 100%|██████████| 938/938 [00:08<00:00, 115.65it/s]\n"
     ]
    },
    {
     "name": "stdout",
     "output_type": "stream",
     "text": [
      "Test set: Average loss: 0.0181, Accuracy: 9944/10000 (99.44%)\n",
      "\n"
     ]
    },
    {
     "name": "stderr",
     "output_type": "stream",
     "text": [
      "epoch=16 loss=0.0853 batch_id=0937 accuracy=87.87%: 100%|██████████| 938/938 [00:08<00:00, 115.68it/s]\n"
     ]
    },
    {
     "name": "stdout",
     "output_type": "stream",
     "text": [
      "Test set: Average loss: 0.0239, Accuracy: 9926/10000 (99.26%)\n",
      "\n"
     ]
    },
    {
     "name": "stderr",
     "output_type": "stream",
     "text": [
      "epoch=17 loss=0.1235 batch_id=0937 accuracy=87.90%: 100%|██████████| 938/938 [00:08<00:00, 115.43it/s]\n"
     ]
    },
    {
     "name": "stdout",
     "output_type": "stream",
     "text": [
      "Test set: Average loss: 0.0222, Accuracy: 9934/10000 (99.34%)\n",
      "\n"
     ]
    },
    {
     "name": "stderr",
     "output_type": "stream",
     "text": [
      "epoch=18 loss=0.2770 batch_id=0937 accuracy=88.02%: 100%|██████████| 938/938 [00:08<00:00, 114.97it/s]\n"
     ]
    },
    {
     "name": "stdout",
     "output_type": "stream",
     "text": [
      "Test set: Average loss: 0.0227, Accuracy: 9920/10000 (99.20%)\n",
      "\n"
     ]
    },
    {
     "name": "stderr",
     "output_type": "stream",
     "text": [
      "epoch=19 loss=0.1358 batch_id=0937 accuracy=87.95%: 100%|██████████| 938/938 [00:08<00:00, 115.15it/s]\n"
     ]
    },
    {
     "name": "stdout",
     "output_type": "stream",
     "text": [
      "Test set: Average loss: 0.0217, Accuracy: 9926/10000 (99.26%)\n",
      "\n"
     ]
    },
    {
     "name": "stderr",
     "output_type": "stream",
     "text": [
      "epoch=20 loss=0.5194 batch_id=0937 accuracy=87.83%: 100%|██████████| 938/938 [00:08<00:00, 114.67it/s]\n"
     ]
    },
    {
     "name": "stdout",
     "output_type": "stream",
     "text": [
      "Test set: Average loss: 0.0346, Accuracy: 9903/10000 (99.03%)\n",
      "\n"
     ]
    }
   ],
   "source": [
    "epochs = 20\n",
    "model = Net().to(device)\n",
    "optimizer = optim.Adam(model.parameters(), lr=0.01)\n",
    "\n",
    "for epoch in range(1, epochs + 1):\n",
    "    train_step(epoch, model, device, train_loader, optimizer)\n",
    "    test_step(model, device, test_loader)"
   ]
  },
  {
   "cell_type": "code",
   "execution_count": null,
   "id": "cfce2082",
   "metadata": {},
   "outputs": [],
   "source": []
  }
 ],
 "metadata": {
  "kernelspec": {
   "display_name": "session-5 (3.12.11)",
   "language": "python",
   "name": "python3"
  },
  "language_info": {
   "codemirror_mode": {
    "name": "ipython",
    "version": 3
   },
   "file_extension": ".py",
   "mimetype": "text/x-python",
   "name": "python",
   "nbconvert_exporter": "python",
   "pygments_lexer": "ipython3",
   "version": "3.12.11"
  }
 },
 "nbformat": 4,
 "nbformat_minor": 5
}
