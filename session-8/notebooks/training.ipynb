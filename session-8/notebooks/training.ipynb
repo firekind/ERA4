{
 "cells": [
  {
   "cell_type": "code",
   "execution_count": 1,
   "id": "fa79ea78",
   "metadata": {},
   "outputs": [],
   "source": [
    "from session_8 import Resnet50Cifar100, Cifar100DataModule\n",
    "from torchinfo import summary\n",
    "import lightning as L\n",
    "from lightning.pytorch.callbacks import (\n",
    "    TQDMProgressBar,\n",
    "    ModelCheckpoint,\n",
    "    LearningRateMonitor,\n",
    ")\n",
    "from lightning.pytorch.loggers import TensorBoardLogger"
   ]
  },
  {
   "cell_type": "code",
   "execution_count": 2,
   "id": "f8e8a8dc",
   "metadata": {},
   "outputs": [],
   "source": [
    "lr = 0.1\n",
    "max_epochs = 100\n",
    "data_dir = \"../data/datasets\"\n",
    "checkpoint_dir = \"../data/checkpoints\"\n",
    "log_dir = \"../data/logs\"\n",
    "batch_size = 128\n",
    "use_onecycle = True"
   ]
  },
  {
   "cell_type": "code",
   "execution_count": 3,
   "id": "695fcdb6",
   "metadata": {},
   "outputs": [
    {
     "name": "stderr",
     "output_type": "stream",
     "text": [
      "Seed set to 0\n"
     ]
    },
    {
     "data": {
      "text/plain": [
       "===============================================================================================\n",
       "Layer (type:depth-idx)                        Output Shape              Param #\n",
       "===============================================================================================\n",
       "Resnet50Cifar100                              [1, 100]                  --\n",
       "├─ResNet: 1-1                                 [1, 100]                  --\n",
       "│    └─Conv2d: 2-1                            [1, 64, 32, 32]           1,728\n",
       "│    └─BatchNorm2d: 2-2                       [1, 64, 32, 32]           128\n",
       "│    └─ReLU: 2-3                              [1, 64, 32, 32]           --\n",
       "│    └─Identity: 2-4                          [1, 64, 32, 32]           --\n",
       "│    └─Sequential: 2-5                        [1, 256, 32, 32]          --\n",
       "│    │    └─Bottleneck: 3-1                   [1, 256, 32, 32]          75,008\n",
       "│    │    └─Bottleneck: 3-2                   [1, 256, 32, 32]          70,400\n",
       "│    │    └─Bottleneck: 3-3                   [1, 256, 32, 32]          70,400\n",
       "│    └─Sequential: 2-6                        [1, 512, 16, 16]          --\n",
       "│    │    └─Bottleneck: 3-4                   [1, 512, 16, 16]          379,392\n",
       "│    │    └─Bottleneck: 3-5                   [1, 512, 16, 16]          280,064\n",
       "│    │    └─Bottleneck: 3-6                   [1, 512, 16, 16]          280,064\n",
       "│    │    └─Bottleneck: 3-7                   [1, 512, 16, 16]          280,064\n",
       "│    └─Sequential: 2-7                        [1, 1024, 8, 8]           --\n",
       "│    │    └─Bottleneck: 3-8                   [1, 1024, 8, 8]           1,512,448\n",
       "│    │    └─Bottleneck: 3-9                   [1, 1024, 8, 8]           1,117,184\n",
       "│    │    └─Bottleneck: 3-10                  [1, 1024, 8, 8]           1,117,184\n",
       "│    │    └─Bottleneck: 3-11                  [1, 1024, 8, 8]           1,117,184\n",
       "│    │    └─Bottleneck: 3-12                  [1, 1024, 8, 8]           1,117,184\n",
       "│    │    └─Bottleneck: 3-13                  [1, 1024, 8, 8]           1,117,184\n",
       "│    └─Sequential: 2-8                        [1, 2048, 4, 4]           --\n",
       "│    │    └─Bottleneck: 3-14                  [1, 2048, 4, 4]           6,039,552\n",
       "│    │    └─Bottleneck: 3-15                  [1, 2048, 4, 4]           4,462,592\n",
       "│    │    └─Bottleneck: 3-16                  [1, 2048, 4, 4]           4,462,592\n",
       "│    └─AdaptiveAvgPool2d: 2-9                 [1, 2048, 1, 1]           --\n",
       "│    └─Linear: 2-10                           [1, 100]                  204,900\n",
       "===============================================================================================\n",
       "Total params: 23,705,252\n",
       "Trainable params: 23,705,252\n",
       "Non-trainable params: 0\n",
       "Total mult-adds (Units.GIGABYTES): 1.30\n",
       "===============================================================================================\n",
       "Input size (MB): 0.01\n",
       "Forward/backward pass size (MB): 54.92\n",
       "Params size (MB): 94.82\n",
       "Estimated Total Size (MB): 149.75\n",
       "==============================================================================================="
      ]
     },
     "execution_count": 3,
     "metadata": {},
     "output_type": "execute_result"
    }
   ],
   "source": [
    "L.seed_everything(0, workers=True)\n",
    "model = Resnet50Cifar100(lr=lr, max_epochs=max_epochs, use_onecycle=use_onecycle)\n",
    "summary(model, input_size=(1, 3, 32, 32))"
   ]
  },
  {
   "cell_type": "code",
   "execution_count": 4,
   "id": "987aa203",
   "metadata": {},
   "outputs": [],
   "source": [
    "datamodule = Cifar100DataModule(data_dir=data_dir, batch_size=batch_size)"
   ]
  },
  {
   "cell_type": "code",
   "execution_count": 5,
   "id": "1606abc9",
   "metadata": {},
   "outputs": [
    {
     "name": "stderr",
     "output_type": "stream",
     "text": [
      "GPU available: True (mps), used: True\n",
      "TPU available: False, using: 0 TPU cores\n",
      "HPU available: False, using: 0 HPUs\n"
     ]
    }
   ],
   "source": [
    "checkpoint_callback = ModelCheckpoint(\n",
    "    dirpath=checkpoint_dir,\n",
    "    filename=\"resnet50-cifar100-{epoch:02d}-{val_acc:.2f}\",\n",
    "    monitor=\"val_acc\",\n",
    "    mode=\"max\",\n",
    "    save_top_k=3,\n",
    "    save_last=True,\n",
    "    verbose=True,\n",
    ")\n",
    "lr_monitor = LearningRateMonitor(logging_interval=\"step\")\n",
    "progbar_callback = TQDMProgressBar(leave=True)\n",
    "logger = TensorBoardLogger(log_dir, name=\"resnet50_cifar100\")\n",
    "trainer = L.Trainer(\n",
    "    max_epochs=max_epochs,\n",
    "    callbacks=[checkpoint_callback, lr_monitor, progbar_callback],\n",
    "    logger=logger,\n",
    ")"
   ]
  },
  {
   "cell_type": "code",
   "execution_count": 6,
   "id": "24956b5c",
   "metadata": {},
   "outputs": [
    {
     "name": "stderr",
     "output_type": "stream",
     "text": [
      "Loading `train_dataloader` to estimate number of stepping batches.\n",
      "\n",
      "  | Name      | Type               | Params | Mode \n",
      "---------------------------------------------------------\n",
      "0 | model     | ResNet             | 23.7 M | train\n",
      "1 | loss_fn   | CrossEntropyLoss   | 0      | train\n",
      "2 | train_acc | MulticlassAccuracy | 0      | train\n",
      "3 | val_acc   | MulticlassAccuracy | 0      | train\n",
      "---------------------------------------------------------\n",
      "23.7 M    Trainable params\n",
      "0         Non-trainable params\n",
      "23.7 M    Total params\n",
      "94.821    Total estimated model params size (MB)\n",
      "154       Modules in train mode\n",
      "0         Modules in eval mode\n"
     ]
    },
    {
     "name": "stdout",
     "output_type": "stream",
     "text": [
      "Training: |          | 0/? [00:00<?, ?it/s]                                \n",
      "Epoch 0: 100%|██████████| 391/391 [02:20<00:00,  2.78it/s, v_num=1, val_loss=3.850, val_acc=0.105, train_loss=4.240, train_acc=0.0619]\n"
     ]
    },
    {
     "name": "stderr",
     "output_type": "stream",
     "text": [
      "Epoch 0, global step 391: 'val_acc' reached 0.10490 (best 0.10490), saving model to '/Users/firekind/Projects/personal/ERA4/session-8/data/checkpoints/resnet50-cifar100-epoch=00-val_acc=0.10.ckpt' as top 3\n"
     ]
    },
    {
     "name": "stdout",
     "output_type": "stream",
     "text": [
      "Epoch 1: 100%|██████████| 391/391 [02:21<00:00,  2.77it/s, v_num=1, val_loss=3.370, val_acc=0.194, train_loss=3.610, train_acc=0.147] "
     ]
    },
    {
     "name": "stderr",
     "output_type": "stream",
     "text": [
      "Epoch 1, global step 782: 'val_acc' reached 0.19450 (best 0.19450), saving model to '/Users/firekind/Projects/personal/ERA4/session-8/data/checkpoints/resnet50-cifar100-epoch=01-val_acc=0.19.ckpt' as top 3\n"
     ]
    },
    {
     "name": "stdout",
     "output_type": "stream",
     "text": [
      "\n",
      "Epoch 2: 100%|██████████| 391/391 [02:20<00:00,  2.78it/s, v_num=1, val_loss=3.100, val_acc=0.242, train_loss=3.250, train_acc=0.207]"
     ]
    },
    {
     "name": "stderr",
     "output_type": "stream",
     "text": [
      "Epoch 2, global step 1173: 'val_acc' reached 0.24200 (best 0.24200), saving model to '/Users/firekind/Projects/personal/ERA4/session-8/data/checkpoints/resnet50-cifar100-epoch=02-val_acc=0.24.ckpt' as top 3\n"
     ]
    },
    {
     "name": "stdout",
     "output_type": "stream",
     "text": [
      "\n",
      "Epoch 3: 100%|██████████| 391/391 [02:18<00:00,  2.83it/s, v_num=1, val_loss=2.810, val_acc=0.293, train_loss=2.960, train_acc=0.259]"
     ]
    },
    {
     "name": "stderr",
     "output_type": "stream",
     "text": [
      "Epoch 3, global step 1564: 'val_acc' reached 0.29290 (best 0.29290), saving model to '/Users/firekind/Projects/personal/ERA4/session-8/data/checkpoints/resnet50-cifar100-epoch=03-val_acc=0.29.ckpt' as top 3\n"
     ]
    },
    {
     "name": "stdout",
     "output_type": "stream",
     "text": [
      "\n",
      "Epoch 4: 100%|██████████| 391/391 [02:17<00:00,  2.84it/s, v_num=1, val_loss=2.540, val_acc=0.349, train_loss=2.640, train_acc=0.323]"
     ]
    },
    {
     "name": "stderr",
     "output_type": "stream",
     "text": [
      "Epoch 4, global step 1955: 'val_acc' reached 0.34850 (best 0.34850), saving model to '/Users/firekind/Projects/personal/ERA4/session-8/data/checkpoints/resnet50-cifar100-epoch=04-val_acc=0.35.ckpt' as top 3\n"
     ]
    },
    {
     "name": "stdout",
     "output_type": "stream",
     "text": [
      "\n",
      "Epoch 5: 100%|██████████| 391/391 [02:18<00:00,  2.83it/s, v_num=1, val_loss=2.440, val_acc=0.375, train_loss=2.360, train_acc=0.375]"
     ]
    },
    {
     "name": "stderr",
     "output_type": "stream",
     "text": [
      "Epoch 5, global step 2346: 'val_acc' reached 0.37450 (best 0.37450), saving model to '/Users/firekind/Projects/personal/ERA4/session-8/data/checkpoints/resnet50-cifar100-epoch=05-val_acc=0.37.ckpt' as top 3\n"
     ]
    },
    {
     "name": "stdout",
     "output_type": "stream",
     "text": [
      "\n",
      "Epoch 6: 100%|██████████| 391/391 [02:17<00:00,  2.84it/s, v_num=1, val_loss=2.250, val_acc=0.418, train_loss=2.110, train_acc=0.431]\n"
     ]
    },
    {
     "name": "stderr",
     "output_type": "stream",
     "text": [
      "Epoch 6, global step 2737: 'val_acc' reached 0.41780 (best 0.41780), saving model to '/Users/firekind/Projects/personal/ERA4/session-8/data/checkpoints/resnet50-cifar100-epoch=06-val_acc=0.42.ckpt' as top 3\n"
     ]
    },
    {
     "name": "stdout",
     "output_type": "stream",
     "text": [
      "Epoch 7: 100%|██████████| 391/391 [02:17<00:00,  2.83it/s, v_num=1, val_loss=2.120, val_acc=0.441, train_loss=1.920, train_acc=0.473]"
     ]
    },
    {
     "name": "stderr",
     "output_type": "stream",
     "text": [
      "Epoch 7, global step 3128: 'val_acc' reached 0.44100 (best 0.44100), saving model to '/Users/firekind/Projects/personal/ERA4/session-8/data/checkpoints/resnet50-cifar100-epoch=07-val_acc=0.44.ckpt' as top 3\n"
     ]
    },
    {
     "name": "stdout",
     "output_type": "stream",
     "text": [
      "\n",
      "Epoch 8: 100%|██████████| 391/391 [02:18<00:00,  2.82it/s, v_num=1, val_loss=1.980, val_acc=0.488, train_loss=1.770, train_acc=0.509]"
     ]
    },
    {
     "name": "stderr",
     "output_type": "stream",
     "text": [
      "Epoch 8, global step 3519: 'val_acc' reached 0.48780 (best 0.48780), saving model to '/Users/firekind/Projects/personal/ERA4/session-8/data/checkpoints/resnet50-cifar100-epoch=08-val_acc=0.49.ckpt' as top 3\n"
     ]
    },
    {
     "name": "stdout",
     "output_type": "stream",
     "text": [
      "\n",
      "Epoch 9: 100%|██████████| 391/391 [02:18<00:00,  2.83it/s, v_num=1, val_loss=1.910, val_acc=0.493, train_loss=1.630, train_acc=0.541]"
     ]
    },
    {
     "name": "stderr",
     "output_type": "stream",
     "text": [
      "Epoch 9, global step 3910: 'val_acc' reached 0.49260 (best 0.49260), saving model to '/Users/firekind/Projects/personal/ERA4/session-8/data/checkpoints/resnet50-cifar100-epoch=09-val_acc=0.49.ckpt' as top 3\n"
     ]
    },
    {
     "name": "stdout",
     "output_type": "stream",
     "text": [
      "\n",
      "Epoch 10: 100%|██████████| 391/391 [02:18<00:00,  2.83it/s, v_num=1, val_loss=1.820, val_acc=0.518, train_loss=1.530, train_acc=0.566]"
     ]
    },
    {
     "name": "stderr",
     "output_type": "stream",
     "text": [
      "Epoch 10, global step 4301: 'val_acc' reached 0.51760 (best 0.51760), saving model to '/Users/firekind/Projects/personal/ERA4/session-8/data/checkpoints/resnet50-cifar100-epoch=10-val_acc=0.52.ckpt' as top 3\n"
     ]
    },
    {
     "name": "stdout",
     "output_type": "stream",
     "text": [
      "\n",
      "Epoch 11: 100%|██████████| 391/391 [02:18<00:00,  2.83it/s, v_num=1, val_loss=1.880, val_acc=0.512, train_loss=1.450, train_acc=0.587]"
     ]
    },
    {
     "name": "stderr",
     "output_type": "stream",
     "text": [
      "Epoch 11, global step 4692: 'val_acc' reached 0.51240 (best 0.51760), saving model to '/Users/firekind/Projects/personal/ERA4/session-8/data/checkpoints/resnet50-cifar100-epoch=11-val_acc=0.51.ckpt' as top 3\n"
     ]
    },
    {
     "name": "stdout",
     "output_type": "stream",
     "text": [
      "\n",
      "Epoch 12: 100%|██████████| 391/391 [02:18<00:00,  2.83it/s, v_num=1, val_loss=1.910, val_acc=0.496, train_loss=1.370, train_acc=0.609]"
     ]
    },
    {
     "name": "stderr",
     "output_type": "stream",
     "text": [
      "Epoch 12, global step 5083: 'val_acc' reached 0.49640 (best 0.51760), saving model to '/Users/firekind/Projects/personal/ERA4/session-8/data/checkpoints/resnet50-cifar100-epoch=12-val_acc=0.50.ckpt' as top 3\n"
     ]
    },
    {
     "name": "stdout",
     "output_type": "stream",
     "text": [
      "\n",
      "Epoch 13: 100%|██████████| 391/391 [02:18<00:00,  2.82it/s, v_num=1, val_loss=1.930, val_acc=0.491, train_loss=1.320, train_acc=0.619]"
     ]
    },
    {
     "name": "stderr",
     "output_type": "stream",
     "text": [
      "Epoch 13, global step 5474: 'val_acc' was not in top 3\n"
     ]
    },
    {
     "name": "stdout",
     "output_type": "stream",
     "text": [
      "\n",
      "Epoch 14: 100%|██████████| 391/391 [02:18<00:00,  2.83it/s, v_num=1, val_loss=1.650, val_acc=0.554, train_loss=1.260, train_acc=0.632]"
     ]
    },
    {
     "name": "stderr",
     "output_type": "stream",
     "text": [
      "Epoch 14, global step 5865: 'val_acc' reached 0.55410 (best 0.55410), saving model to '/Users/firekind/Projects/personal/ERA4/session-8/data/checkpoints/resnet50-cifar100-epoch=14-val_acc=0.55.ckpt' as top 3\n"
     ]
    },
    {
     "name": "stdout",
     "output_type": "stream",
     "text": [
      "\n",
      "Epoch 15: 100%|██████████| 391/391 [02:18<00:00,  2.83it/s, v_num=1, val_loss=1.610, val_acc=0.563, train_loss=1.220, train_acc=0.646]"
     ]
    },
    {
     "name": "stderr",
     "output_type": "stream",
     "text": [
      "Epoch 15, global step 6256: 'val_acc' reached 0.56340 (best 0.56340), saving model to '/Users/firekind/Projects/personal/ERA4/session-8/data/checkpoints/resnet50-cifar100-epoch=15-val_acc=0.56.ckpt' as top 3\n"
     ]
    },
    {
     "name": "stdout",
     "output_type": "stream",
     "text": [
      "\n",
      "Epoch 16: 100%|██████████| 391/391 [02:18<00:00,  2.83it/s, v_num=1, val_loss=1.540, val_acc=0.577, train_loss=1.180, train_acc=0.654]"
     ]
    },
    {
     "name": "stderr",
     "output_type": "stream",
     "text": [
      "Epoch 16, global step 6647: 'val_acc' reached 0.57720 (best 0.57720), saving model to '/Users/firekind/Projects/personal/ERA4/session-8/data/checkpoints/resnet50-cifar100-epoch=16-val_acc=0.58.ckpt' as top 3\n"
     ]
    },
    {
     "name": "stdout",
     "output_type": "stream",
     "text": [
      "\n",
      "Epoch 17: 100%|██████████| 391/391 [02:17<00:00,  2.83it/s, v_num=1, val_loss=1.580, val_acc=0.567, train_loss=1.150, train_acc=0.660]"
     ]
    },
    {
     "name": "stderr",
     "output_type": "stream",
     "text": [
      "Epoch 17, global step 7038: 'val_acc' reached 0.56670 (best 0.57720), saving model to '/Users/firekind/Projects/personal/ERA4/session-8/data/checkpoints/resnet50-cifar100-epoch=17-val_acc=0.57.ckpt' as top 3\n"
     ]
    },
    {
     "name": "stdout",
     "output_type": "stream",
     "text": [
      "\n",
      "Epoch 18: 100%|██████████| 391/391 [02:18<00:00,  2.83it/s, v_num=1, val_loss=1.560, val_acc=0.583, train_loss=1.120, train_acc=0.672]\n"
     ]
    },
    {
     "name": "stderr",
     "output_type": "stream",
     "text": [
      "Epoch 18, global step 7429: 'val_acc' reached 0.58340 (best 0.58340), saving model to '/Users/firekind/Projects/personal/ERA4/session-8/data/checkpoints/resnet50-cifar100-epoch=18-val_acc=0.58.ckpt' as top 3\n"
     ]
    },
    {
     "name": "stdout",
     "output_type": "stream",
     "text": [
      "Epoch 19: 100%|██████████| 391/391 [02:18<00:00,  2.83it/s, v_num=1, val_loss=1.600, val_acc=0.573, train_loss=1.110, train_acc=0.672]"
     ]
    },
    {
     "name": "stderr",
     "output_type": "stream",
     "text": [
      "Epoch 19, global step 7820: 'val_acc' reached 0.57290 (best 0.58340), saving model to '/Users/firekind/Projects/personal/ERA4/session-8/data/checkpoints/resnet50-cifar100-epoch=19-val_acc=0.57.ckpt' as top 3\n"
     ]
    },
    {
     "name": "stdout",
     "output_type": "stream",
     "text": [
      "\n",
      "Epoch 20: 100%|██████████| 391/391 [02:17<00:00,  2.83it/s, v_num=1, val_loss=1.430, val_acc=0.602, train_loss=1.080, train_acc=0.681]"
     ]
    },
    {
     "name": "stderr",
     "output_type": "stream",
     "text": [
      "Epoch 20, global step 8211: 'val_acc' reached 0.60200 (best 0.60200), saving model to '/Users/firekind/Projects/personal/ERA4/session-8/data/checkpoints/resnet50-cifar100-epoch=20-val_acc=0.60.ckpt' as top 3\n"
     ]
    },
    {
     "name": "stdout",
     "output_type": "stream",
     "text": [
      "\n",
      "Epoch 21: 100%|██████████| 391/391 [02:18<00:00,  2.83it/s, v_num=1, val_loss=1.610, val_acc=0.559, train_loss=1.080, train_acc=0.682]"
     ]
    },
    {
     "name": "stderr",
     "output_type": "stream",
     "text": [
      "Epoch 21, global step 8602: 'val_acc' was not in top 3\n"
     ]
    },
    {
     "name": "stdout",
     "output_type": "stream",
     "text": [
      "\n",
      "Epoch 22: 100%|██████████| 391/391 [02:18<00:00,  2.83it/s, v_num=1, val_loss=1.650, val_acc=0.567, train_loss=1.060, train_acc=0.690]"
     ]
    },
    {
     "name": "stderr",
     "output_type": "stream",
     "text": [
      "Epoch 22, global step 8993: 'val_acc' was not in top 3\n"
     ]
    },
    {
     "name": "stdout",
     "output_type": "stream",
     "text": [
      "\n",
      "Epoch 23: 100%|██████████| 391/391 [02:18<00:00,  2.83it/s, v_num=1, val_loss=1.690, val_acc=0.554, train_loss=1.050, train_acc=0.690]"
     ]
    },
    {
     "name": "stderr",
     "output_type": "stream",
     "text": [
      "Epoch 23, global step 9384: 'val_acc' was not in top 3\n"
     ]
    },
    {
     "name": "stdout",
     "output_type": "stream",
     "text": [
      "\n",
      "Epoch 24: 100%|██████████| 391/391 [02:18<00:00,  2.83it/s, v_num=1, val_loss=1.980, val_acc=0.511, train_loss=1.040, train_acc=0.691]"
     ]
    },
    {
     "name": "stderr",
     "output_type": "stream",
     "text": [
      "Epoch 24, global step 9775: 'val_acc' was not in top 3\n"
     ]
    },
    {
     "name": "stdout",
     "output_type": "stream",
     "text": [
      "\n",
      "Epoch 25: 100%|██████████| 391/391 [02:18<00:00,  2.83it/s, v_num=1, val_loss=1.750, val_acc=0.541, train_loss=1.040, train_acc=0.692]"
     ]
    },
    {
     "name": "stderr",
     "output_type": "stream",
     "text": [
      "Epoch 25, global step 10166: 'val_acc' was not in top 3\n"
     ]
    },
    {
     "name": "stdout",
     "output_type": "stream",
     "text": [
      "\n",
      "Epoch 26: 100%|██████████| 391/391 [02:18<00:00,  2.83it/s, v_num=1, val_loss=1.760, val_acc=0.546, train_loss=1.030, train_acc=0.699]"
     ]
    },
    {
     "name": "stderr",
     "output_type": "stream",
     "text": [
      "Epoch 26, global step 10557: 'val_acc' was not in top 3\n"
     ]
    },
    {
     "name": "stdout",
     "output_type": "stream",
     "text": [
      "\n",
      "Epoch 27: 100%|██████████| 391/391 [02:17<00:00,  2.83it/s, v_num=1, val_loss=1.610, val_acc=0.573, train_loss=1.020, train_acc=0.698]"
     ]
    },
    {
     "name": "stderr",
     "output_type": "stream",
     "text": [
      "Epoch 27, global step 10948: 'val_acc' was not in top 3\n"
     ]
    },
    {
     "name": "stdout",
     "output_type": "stream",
     "text": [
      "\n",
      "Epoch 28: 100%|██████████| 391/391 [02:17<00:00,  2.83it/s, v_num=1, val_loss=1.590, val_acc=0.580, train_loss=1.000, train_acc=0.702]"
     ]
    },
    {
     "name": "stderr",
     "output_type": "stream",
     "text": [
      "Epoch 28, global step 11339: 'val_acc' reached 0.58000 (best 0.60200), saving model to '/Users/firekind/Projects/personal/ERA4/session-8/data/checkpoints/resnet50-cifar100-epoch=28-val_acc=0.58.ckpt' as top 3\n"
     ]
    },
    {
     "name": "stdout",
     "output_type": "stream",
     "text": [
      "\n",
      "Epoch 29: 100%|██████████| 391/391 [02:17<00:00,  2.83it/s, v_num=1, val_loss=1.540, val_acc=0.585, train_loss=0.986, train_acc=0.708]"
     ]
    },
    {
     "name": "stderr",
     "output_type": "stream",
     "text": [
      "Epoch 29, global step 11730: 'val_acc' reached 0.58460 (best 0.60200), saving model to '/Users/firekind/Projects/personal/ERA4/session-8/data/checkpoints/resnet50-cifar100-epoch=29-val_acc=0.58.ckpt' as top 3\n"
     ]
    },
    {
     "name": "stdout",
     "output_type": "stream",
     "text": [
      "\n",
      "Epoch 30: 100%|██████████| 391/391 [02:18<00:00,  2.83it/s, v_num=1, val_loss=1.640, val_acc=0.567, train_loss=0.979, train_acc=0.710]"
     ]
    },
    {
     "name": "stderr",
     "output_type": "stream",
     "text": [
      "Epoch 30, global step 12121: 'val_acc' was not in top 3\n"
     ]
    },
    {
     "name": "stdout",
     "output_type": "stream",
     "text": [
      "\n",
      "Epoch 31: 100%|██████████| 391/391 [02:18<00:00,  2.83it/s, v_num=1, val_loss=1.650, val_acc=0.560, train_loss=0.973, train_acc=0.712]"
     ]
    },
    {
     "name": "stderr",
     "output_type": "stream",
     "text": [
      "Epoch 31, global step 12512: 'val_acc' was not in top 3\n"
     ]
    },
    {
     "name": "stdout",
     "output_type": "stream",
     "text": [
      "\n",
      "Epoch 32: 100%|██████████| 391/391 [02:18<00:00,  2.83it/s, v_num=1, val_loss=1.490, val_acc=0.600, train_loss=0.958, train_acc=0.713]"
     ]
    },
    {
     "name": "stderr",
     "output_type": "stream",
     "text": [
      "Epoch 32, global step 12903: 'val_acc' reached 0.60020 (best 0.60200), saving model to '/Users/firekind/Projects/personal/ERA4/session-8/data/checkpoints/resnet50-cifar100-epoch=32-val_acc=0.60.ckpt' as top 3\n"
     ]
    },
    {
     "name": "stdout",
     "output_type": "stream",
     "text": [
      "\n",
      "Epoch 33: 100%|██████████| 391/391 [02:18<00:00,  2.83it/s, v_num=1, val_loss=1.640, val_acc=0.571, train_loss=0.948, train_acc=0.719]"
     ]
    },
    {
     "name": "stderr",
     "output_type": "stream",
     "text": [
      "Epoch 33, global step 13294: 'val_acc' was not in top 3\n"
     ]
    },
    {
     "name": "stdout",
     "output_type": "stream",
     "text": [
      "\n",
      "Epoch 34: 100%|██████████| 391/391 [02:18<00:00,  2.83it/s, v_num=1, val_loss=1.920, val_acc=0.532, train_loss=0.940, train_acc=0.722]"
     ]
    },
    {
     "name": "stderr",
     "output_type": "stream",
     "text": [
      "Epoch 34, global step 13685: 'val_acc' was not in top 3\n"
     ]
    },
    {
     "name": "stdout",
     "output_type": "stream",
     "text": [
      "\n",
      "Epoch 35: 100%|██████████| 391/391 [02:18<00:00,  2.83it/s, v_num=1, val_loss=1.600, val_acc=0.586, train_loss=0.928, train_acc=0.723]"
     ]
    },
    {
     "name": "stderr",
     "output_type": "stream",
     "text": [
      "Epoch 35, global step 14076: 'val_acc' reached 0.58560 (best 0.60200), saving model to '/Users/firekind/Projects/personal/ERA4/session-8/data/checkpoints/resnet50-cifar100-epoch=35-val_acc=0.59.ckpt' as top 3\n"
     ]
    },
    {
     "name": "stdout",
     "output_type": "stream",
     "text": [
      "\n",
      "Epoch 36: 100%|██████████| 391/391 [02:18<00:00,  2.83it/s, v_num=1, val_loss=1.590, val_acc=0.588, train_loss=0.922, train_acc=0.726]"
     ]
    },
    {
     "name": "stderr",
     "output_type": "stream",
     "text": [
      "Epoch 36, global step 14467: 'val_acc' reached 0.58800 (best 0.60200), saving model to '/Users/firekind/Projects/personal/ERA4/session-8/data/checkpoints/resnet50-cifar100-epoch=36-val_acc=0.59.ckpt' as top 3\n"
     ]
    },
    {
     "name": "stdout",
     "output_type": "stream",
     "text": [
      "\n",
      "Epoch 37: 100%|██████████| 391/391 [02:18<00:00,  2.83it/s, v_num=1, val_loss=1.610, val_acc=0.585, train_loss=0.913, train_acc=0.728]"
     ]
    },
    {
     "name": "stderr",
     "output_type": "stream",
     "text": [
      "Epoch 37, global step 14858: 'val_acc' was not in top 3\n"
     ]
    },
    {
     "name": "stdout",
     "output_type": "stream",
     "text": [
      "\n",
      "Epoch 38: 100%|██████████| 391/391 [02:17<00:00,  2.83it/s, v_num=1, val_loss=1.710, val_acc=0.571, train_loss=0.908, train_acc=0.731]"
     ]
    },
    {
     "name": "stderr",
     "output_type": "stream",
     "text": [
      "Epoch 38, global step 15249: 'val_acc' was not in top 3\n"
     ]
    },
    {
     "name": "stdout",
     "output_type": "stream",
     "text": [
      "\n",
      "Epoch 39: 100%|██████████| 391/391 [02:17<00:00,  2.83it/s, v_num=1, val_loss=1.670, val_acc=0.580, train_loss=0.894, train_acc=0.735]"
     ]
    },
    {
     "name": "stderr",
     "output_type": "stream",
     "text": [
      "Epoch 39, global step 15640: 'val_acc' was not in top 3\n"
     ]
    },
    {
     "name": "stdout",
     "output_type": "stream",
     "text": [
      "\n",
      "Epoch 40: 100%|██████████| 391/391 [02:17<00:00,  2.83it/s, v_num=1, val_loss=1.620, val_acc=0.580, train_loss=0.886, train_acc=0.734]"
     ]
    },
    {
     "name": "stderr",
     "output_type": "stream",
     "text": [
      "Epoch 40, global step 16031: 'val_acc' was not in top 3\n"
     ]
    },
    {
     "name": "stdout",
     "output_type": "stream",
     "text": [
      "\n",
      "Epoch 41: 100%|██████████| 391/391 [02:18<00:00,  2.83it/s, v_num=1, val_loss=1.610, val_acc=0.581, train_loss=0.870, train_acc=0.742]"
     ]
    },
    {
     "name": "stderr",
     "output_type": "stream",
     "text": [
      "Epoch 41, global step 16422: 'val_acc' was not in top 3\n"
     ]
    },
    {
     "name": "stdout",
     "output_type": "stream",
     "text": [
      "\n",
      "Epoch 42: 100%|██████████| 391/391 [02:18<00:00,  2.83it/s, v_num=1, val_loss=1.640, val_acc=0.587, train_loss=0.881, train_acc=0.736]"
     ]
    },
    {
     "name": "stderr",
     "output_type": "stream",
     "text": [
      "Epoch 42, global step 16813: 'val_acc' was not in top 3\n"
     ]
    },
    {
     "name": "stdout",
     "output_type": "stream",
     "text": [
      "\n",
      "Epoch 43: 100%|██████████| 391/391 [02:18<00:00,  2.83it/s, v_num=1, val_loss=1.550, val_acc=0.594, train_loss=0.847, train_acc=0.746]"
     ]
    },
    {
     "name": "stderr",
     "output_type": "stream",
     "text": [
      "Epoch 43, global step 17204: 'val_acc' reached 0.59440 (best 0.60200), saving model to '/Users/firekind/Projects/personal/ERA4/session-8/data/checkpoints/resnet50-cifar100-epoch=43-val_acc=0.59.ckpt' as top 3\n"
     ]
    },
    {
     "name": "stdout",
     "output_type": "stream",
     "text": [
      "\n",
      "Epoch 44: 100%|██████████| 391/391 [02:18<00:00,  2.83it/s, v_num=1, val_loss=1.490, val_acc=0.610, train_loss=0.855, train_acc=0.744]"
     ]
    },
    {
     "name": "stderr",
     "output_type": "stream",
     "text": [
      "Epoch 44, global step 17595: 'val_acc' reached 0.61010 (best 0.61010), saving model to '/Users/firekind/Projects/personal/ERA4/session-8/data/checkpoints/resnet50-cifar100-epoch=44-val_acc=0.61.ckpt' as top 3\n"
     ]
    },
    {
     "name": "stdout",
     "output_type": "stream",
     "text": [
      "\n",
      "Epoch 45: 100%|██████████| 391/391 [02:18<00:00,  2.83it/s, v_num=1, val_loss=1.560, val_acc=0.596, train_loss=0.839, train_acc=0.747]"
     ]
    },
    {
     "name": "stderr",
     "output_type": "stream",
     "text": [
      "Epoch 45, global step 17986: 'val_acc' was not in top 3\n"
     ]
    },
    {
     "name": "stdout",
     "output_type": "stream",
     "text": [
      "\n",
      "Epoch 46: 100%|██████████| 391/391 [02:18<00:00,  2.83it/s, v_num=1, val_loss=1.530, val_acc=0.602, train_loss=0.827, train_acc=0.751]"
     ]
    },
    {
     "name": "stderr",
     "output_type": "stream",
     "text": [
      "Epoch 46, global step 18377: 'val_acc' reached 0.60220 (best 0.61010), saving model to '/Users/firekind/Projects/personal/ERA4/session-8/data/checkpoints/resnet50-cifar100-epoch=46-val_acc=0.60.ckpt' as top 3\n"
     ]
    },
    {
     "name": "stdout",
     "output_type": "stream",
     "text": [
      "\n",
      "Epoch 47: 100%|██████████| 391/391 [02:18<00:00,  2.83it/s, v_num=1, val_loss=1.460, val_acc=0.618, train_loss=0.828, train_acc=0.751]"
     ]
    },
    {
     "name": "stderr",
     "output_type": "stream",
     "text": [
      "Epoch 47, global step 18768: 'val_acc' reached 0.61790 (best 0.61790), saving model to '/Users/firekind/Projects/personal/ERA4/session-8/data/checkpoints/resnet50-cifar100-epoch=47-val_acc=0.62.ckpt' as top 3\n"
     ]
    },
    {
     "name": "stdout",
     "output_type": "stream",
     "text": [
      "\n",
      "Epoch 48: 100%|██████████| 391/391 [02:17<00:00,  2.83it/s, v_num=1, val_loss=1.490, val_acc=0.610, train_loss=0.809, train_acc=0.757]"
     ]
    },
    {
     "name": "stderr",
     "output_type": "stream",
     "text": [
      "Epoch 48, global step 19159: 'val_acc' reached 0.60990 (best 0.61790), saving model to '/Users/firekind/Projects/personal/ERA4/session-8/data/checkpoints/resnet50-cifar100-epoch=48-val_acc=0.61.ckpt' as top 3\n"
     ]
    },
    {
     "name": "stdout",
     "output_type": "stream",
     "text": [
      "\n",
      "Epoch 49: 100%|██████████| 391/391 [02:17<00:00,  2.84it/s, v_num=1, val_loss=1.500, val_acc=0.609, train_loss=0.807, train_acc=0.759]"
     ]
    },
    {
     "name": "stderr",
     "output_type": "stream",
     "text": [
      "Epoch 49, global step 19550: 'val_acc' was not in top 3\n"
     ]
    },
    {
     "name": "stdout",
     "output_type": "stream",
     "text": [
      "\n",
      "Epoch 50: 100%|██████████| 391/391 [02:17<00:00,  2.84it/s, v_num=1, val_loss=1.540, val_acc=0.601, train_loss=0.794, train_acc=0.760]"
     ]
    },
    {
     "name": "stderr",
     "output_type": "stream",
     "text": [
      "Epoch 50, global step 19941: 'val_acc' was not in top 3\n"
     ]
    },
    {
     "name": "stdout",
     "output_type": "stream",
     "text": [
      "\n",
      "Epoch 51: 100%|██████████| 391/391 [02:17<00:00,  2.84it/s, v_num=1, val_loss=1.430, val_acc=0.627, train_loss=0.786, train_acc=0.763]"
     ]
    },
    {
     "name": "stderr",
     "output_type": "stream",
     "text": [
      "Epoch 51, global step 20332: 'val_acc' reached 0.62700 (best 0.62700), saving model to '/Users/firekind/Projects/personal/ERA4/session-8/data/checkpoints/resnet50-cifar100-epoch=51-val_acc=0.63.ckpt' as top 3\n"
     ]
    },
    {
     "name": "stdout",
     "output_type": "stream",
     "text": [
      "\n",
      "Epoch 52: 100%|██████████| 391/391 [02:17<00:00,  2.84it/s, v_num=1, val_loss=1.580, val_acc=0.593, train_loss=0.775, train_acc=0.765]\n"
     ]
    },
    {
     "name": "stderr",
     "output_type": "stream",
     "text": [
      "Epoch 52, global step 20723: 'val_acc' was not in top 3\n"
     ]
    },
    {
     "name": "stdout",
     "output_type": "stream",
     "text": [
      "Epoch 53: 100%|██████████| 391/391 [02:17<00:00,  2.84it/s, v_num=1, val_loss=1.360, val_acc=0.634, train_loss=0.760, train_acc=0.769]"
     ]
    },
    {
     "name": "stderr",
     "output_type": "stream",
     "text": [
      "Epoch 53, global step 21114: 'val_acc' reached 0.63440 (best 0.63440), saving model to '/Users/firekind/Projects/personal/ERA4/session-8/data/checkpoints/resnet50-cifar100-epoch=53-val_acc=0.63.ckpt' as top 3\n"
     ]
    },
    {
     "name": "stdout",
     "output_type": "stream",
     "text": [
      "\n",
      "Epoch 54: 100%|██████████| 391/391 [02:17<00:00,  2.84it/s, v_num=1, val_loss=1.470, val_acc=0.615, train_loss=0.757, train_acc=0.771]\n"
     ]
    },
    {
     "name": "stderr",
     "output_type": "stream",
     "text": [
      "Epoch 54, global step 21505: 'val_acc' was not in top 3\n"
     ]
    },
    {
     "name": "stdout",
     "output_type": "stream",
     "text": [
      "Epoch 55: 100%|██████████| 391/391 [02:17<00:00,  2.84it/s, v_num=1, val_loss=1.720, val_acc=0.576, train_loss=0.761, train_acc=0.770]"
     ]
    },
    {
     "name": "stderr",
     "output_type": "stream",
     "text": [
      "Epoch 55, global step 21896: 'val_acc' was not in top 3\n"
     ]
    },
    {
     "name": "stdout",
     "output_type": "stream",
     "text": [
      "\n",
      "Epoch 56: 100%|██████████| 391/391 [02:17<00:00,  2.84it/s, v_num=1, val_loss=1.580, val_acc=0.601, train_loss=0.733, train_acc=0.777]"
     ]
    },
    {
     "name": "stderr",
     "output_type": "stream",
     "text": [
      "Epoch 56, global step 22287: 'val_acc' was not in top 3\n"
     ]
    },
    {
     "name": "stdout",
     "output_type": "stream",
     "text": [
      "\n",
      "Epoch 57: 100%|██████████| 391/391 [02:17<00:00,  2.84it/s, v_num=1, val_loss=1.430, val_acc=0.636, train_loss=0.724, train_acc=0.777]"
     ]
    },
    {
     "name": "stderr",
     "output_type": "stream",
     "text": [
      "Epoch 57, global step 22678: 'val_acc' reached 0.63580 (best 0.63580), saving model to '/Users/firekind/Projects/personal/ERA4/session-8/data/checkpoints/resnet50-cifar100-epoch=57-val_acc=0.64.ckpt' as top 3\n"
     ]
    },
    {
     "name": "stdout",
     "output_type": "stream",
     "text": [
      "\n",
      "Epoch 58: 100%|██████████| 391/391 [02:17<00:00,  2.84it/s, v_num=1, val_loss=1.540, val_acc=0.613, train_loss=0.721, train_acc=0.780]"
     ]
    },
    {
     "name": "stderr",
     "output_type": "stream",
     "text": [
      "Epoch 58, global step 23069: 'val_acc' was not in top 3\n"
     ]
    },
    {
     "name": "stdout",
     "output_type": "stream",
     "text": [
      "\n",
      "Epoch 59: 100%|██████████| 391/391 [02:17<00:00,  2.84it/s, v_num=1, val_loss=1.430, val_acc=0.630, train_loss=0.707, train_acc=0.786]"
     ]
    },
    {
     "name": "stderr",
     "output_type": "stream",
     "text": [
      "Epoch 59, global step 23460: 'val_acc' reached 0.62970 (best 0.63580), saving model to '/Users/firekind/Projects/personal/ERA4/session-8/data/checkpoints/resnet50-cifar100-epoch=59-val_acc=0.63.ckpt' as top 3\n"
     ]
    },
    {
     "name": "stdout",
     "output_type": "stream",
     "text": [
      "\n",
      "Epoch 60: 100%|██████████| 391/391 [02:17<00:00,  2.84it/s, v_num=1, val_loss=1.530, val_acc=0.609, train_loss=0.689, train_acc=0.790]"
     ]
    },
    {
     "name": "stderr",
     "output_type": "stream",
     "text": [
      "Epoch 60, global step 23851: 'val_acc' was not in top 3\n"
     ]
    },
    {
     "name": "stdout",
     "output_type": "stream",
     "text": [
      "\n",
      "Epoch 61: 100%|██████████| 391/391 [02:17<00:00,  2.84it/s, v_num=1, val_loss=1.480, val_acc=0.621, train_loss=0.680, train_acc=0.792]\n"
     ]
    },
    {
     "name": "stderr",
     "output_type": "stream",
     "text": [
      "Epoch 61, global step 24242: 'val_acc' was not in top 3\n"
     ]
    },
    {
     "name": "stdout",
     "output_type": "stream",
     "text": [
      "Epoch 62: 100%|██████████| 391/391 [02:17<00:00,  2.84it/s, v_num=1, val_loss=1.460, val_acc=0.626, train_loss=0.666, train_acc=0.797]"
     ]
    },
    {
     "name": "stderr",
     "output_type": "stream",
     "text": [
      "Epoch 62, global step 24633: 'val_acc' was not in top 3\n"
     ]
    },
    {
     "name": "stdout",
     "output_type": "stream",
     "text": [
      "\n",
      "Epoch 63: 100%|██████████| 391/391 [02:17<00:00,  2.84it/s, v_num=1, val_loss=1.320, val_acc=0.649, train_loss=0.652, train_acc=0.801]"
     ]
    },
    {
     "name": "stderr",
     "output_type": "stream",
     "text": [
      "Epoch 63, global step 25024: 'val_acc' reached 0.64900 (best 0.64900), saving model to '/Users/firekind/Projects/personal/ERA4/session-8/data/checkpoints/resnet50-cifar100-epoch=63-val_acc=0.65.ckpt' as top 3\n"
     ]
    },
    {
     "name": "stdout",
     "output_type": "stream",
     "text": [
      "\n",
      "Epoch 64: 100%|██████████| 391/391 [02:17<00:00,  2.84it/s, v_num=1, val_loss=1.250, val_acc=0.668, train_loss=0.633, train_acc=0.804]"
     ]
    },
    {
     "name": "stderr",
     "output_type": "stream",
     "text": [
      "Epoch 64, global step 25415: 'val_acc' reached 0.66770 (best 0.66770), saving model to '/Users/firekind/Projects/personal/ERA4/session-8/data/checkpoints/resnet50-cifar100-epoch=64-val_acc=0.67.ckpt' as top 3\n"
     ]
    },
    {
     "name": "stdout",
     "output_type": "stream",
     "text": [
      "\n",
      "Epoch 65: 100%|██████████| 391/391 [02:17<00:00,  2.84it/s, v_num=1, val_loss=1.470, val_acc=0.628, train_loss=0.623, train_acc=0.810]"
     ]
    },
    {
     "name": "stderr",
     "output_type": "stream",
     "text": [
      "Epoch 65, global step 25806: 'val_acc' was not in top 3\n"
     ]
    },
    {
     "name": "stdout",
     "output_type": "stream",
     "text": [
      "\n",
      "Epoch 66: 100%|██████████| 391/391 [02:17<00:00,  2.84it/s, v_num=1, val_loss=1.260, val_acc=0.664, train_loss=0.609, train_acc=0.812]"
     ]
    },
    {
     "name": "stderr",
     "output_type": "stream",
     "text": [
      "Epoch 66, global step 26197: 'val_acc' reached 0.66440 (best 0.66770), saving model to '/Users/firekind/Projects/personal/ERA4/session-8/data/checkpoints/resnet50-cifar100-epoch=66-val_acc=0.66.ckpt' as top 3\n"
     ]
    },
    {
     "name": "stdout",
     "output_type": "stream",
     "text": [
      "\n",
      "Epoch 67: 100%|██████████| 391/391 [02:17<00:00,  2.84it/s, v_num=1, val_loss=1.490, val_acc=0.628, train_loss=0.589, train_acc=0.818]\n"
     ]
    },
    {
     "name": "stderr",
     "output_type": "stream",
     "text": [
      "Epoch 67, global step 26588: 'val_acc' was not in top 3\n"
     ]
    },
    {
     "name": "stdout",
     "output_type": "stream",
     "text": [
      "Epoch 68: 100%|██████████| 391/391 [02:18<00:00,  2.82it/s, v_num=1, val_loss=1.230, val_acc=0.679, train_loss=0.572, train_acc=0.823]"
     ]
    },
    {
     "name": "stderr",
     "output_type": "stream",
     "text": [
      "Epoch 68, global step 26979: 'val_acc' reached 0.67890 (best 0.67890), saving model to '/Users/firekind/Projects/personal/ERA4/session-8/data/checkpoints/resnet50-cifar100-epoch=68-val_acc=0.68.ckpt' as top 3\n"
     ]
    },
    {
     "name": "stdout",
     "output_type": "stream",
     "text": [
      "\n",
      "Epoch 69: 100%|██████████| 391/391 [02:18<00:00,  2.82it/s, v_num=1, val_loss=1.290, val_acc=0.664, train_loss=0.548, train_acc=0.831]"
     ]
    },
    {
     "name": "stderr",
     "output_type": "stream",
     "text": [
      "Epoch 69, global step 27370: 'val_acc' reached 0.66450 (best 0.67890), saving model to '/Users/firekind/Projects/personal/ERA4/session-8/data/checkpoints/resnet50-cifar100-epoch=69-val_acc=0.66.ckpt' as top 3\n"
     ]
    },
    {
     "name": "stdout",
     "output_type": "stream",
     "text": [
      "\n",
      "Epoch 70: 100%|██████████| 391/391 [02:18<00:00,  2.83it/s, v_num=1, val_loss=1.280, val_acc=0.670, train_loss=0.534, train_acc=0.835]"
     ]
    },
    {
     "name": "stderr",
     "output_type": "stream",
     "text": [
      "Epoch 70, global step 27761: 'val_acc' reached 0.66960 (best 0.67890), saving model to '/Users/firekind/Projects/personal/ERA4/session-8/data/checkpoints/resnet50-cifar100-epoch=70-val_acc=0.67.ckpt' as top 3\n"
     ]
    },
    {
     "name": "stdout",
     "output_type": "stream",
     "text": [
      "\n",
      "Epoch 71: 100%|██████████| 391/391 [02:18<00:00,  2.83it/s, v_num=1, val_loss=1.240, val_acc=0.675, train_loss=0.514, train_acc=0.841]"
     ]
    },
    {
     "name": "stderr",
     "output_type": "stream",
     "text": [
      "Epoch 71, global step 28152: 'val_acc' reached 0.67520 (best 0.67890), saving model to '/Users/firekind/Projects/personal/ERA4/session-8/data/checkpoints/resnet50-cifar100-epoch=71-val_acc=0.68.ckpt' as top 3\n"
     ]
    },
    {
     "name": "stdout",
     "output_type": "stream",
     "text": [
      "\n",
      "Epoch 72: 100%|██████████| 391/391 [02:18<00:00,  2.82it/s, v_num=1, val_loss=1.170, val_acc=0.691, train_loss=0.493, train_acc=0.847]"
     ]
    },
    {
     "name": "stderr",
     "output_type": "stream",
     "text": [
      "Epoch 72, global step 28543: 'val_acc' reached 0.69130 (best 0.69130), saving model to '/Users/firekind/Projects/personal/ERA4/session-8/data/checkpoints/resnet50-cifar100-epoch=72-val_acc=0.69.ckpt' as top 3\n"
     ]
    },
    {
     "name": "stdout",
     "output_type": "stream",
     "text": [
      "\n",
      "Epoch 73: 100%|██████████| 391/391 [02:18<00:00,  2.83it/s, v_num=1, val_loss=1.190, val_acc=0.690, train_loss=0.460, train_acc=0.856]"
     ]
    },
    {
     "name": "stderr",
     "output_type": "stream",
     "text": [
      "Epoch 73, global step 28934: 'val_acc' reached 0.68970 (best 0.69130), saving model to '/Users/firekind/Projects/personal/ERA4/session-8/data/checkpoints/resnet50-cifar100-epoch=73-val_acc=0.69.ckpt' as top 3\n"
     ]
    },
    {
     "name": "stdout",
     "output_type": "stream",
     "text": [
      "\n",
      "Epoch 74: 100%|██████████| 391/391 [02:18<00:00,  2.82it/s, v_num=1, val_loss=1.270, val_acc=0.676, train_loss=0.447, train_acc=0.862]"
     ]
    },
    {
     "name": "stderr",
     "output_type": "stream",
     "text": [
      "Epoch 74, global step 29325: 'val_acc' was not in top 3\n"
     ]
    },
    {
     "name": "stdout",
     "output_type": "stream",
     "text": [
      "\n",
      "Epoch 75: 100%|██████████| 391/391 [02:18<00:00,  2.82it/s, v_num=1, val_loss=1.210, val_acc=0.693, train_loss=0.420, train_acc=0.868]"
     ]
    },
    {
     "name": "stderr",
     "output_type": "stream",
     "text": [
      "Epoch 75, global step 29716: 'val_acc' reached 0.69340 (best 0.69340), saving model to '/Users/firekind/Projects/personal/ERA4/session-8/data/checkpoints/resnet50-cifar100-epoch=75-val_acc=0.69.ckpt' as top 3\n"
     ]
    },
    {
     "name": "stdout",
     "output_type": "stream",
     "text": [
      "\n",
      "Epoch 76: 100%|██████████| 391/391 [02:18<00:00,  2.82it/s, v_num=1, val_loss=1.300, val_acc=0.671, train_loss=0.386, train_acc=0.879]"
     ]
    },
    {
     "name": "stderr",
     "output_type": "stream",
     "text": [
      "Epoch 76, global step 30107: 'val_acc' was not in top 3\n"
     ]
    },
    {
     "name": "stdout",
     "output_type": "stream",
     "text": [
      "\n",
      "Epoch 77: 100%|██████████| 391/391 [02:19<00:00,  2.81it/s, v_num=1, val_loss=1.160, val_acc=0.709, train_loss=0.365, train_acc=0.887]\n"
     ]
    },
    {
     "name": "stderr",
     "output_type": "stream",
     "text": [
      "Epoch 77, global step 30498: 'val_acc' reached 0.70890 (best 0.70890), saving model to '/Users/firekind/Projects/personal/ERA4/session-8/data/checkpoints/resnet50-cifar100-epoch=77-val_acc=0.71.ckpt' as top 3\n"
     ]
    },
    {
     "name": "stdout",
     "output_type": "stream",
     "text": [
      "Epoch 78: 100%|██████████| 391/391 [02:19<00:00,  2.81it/s, v_num=1, val_loss=1.170, val_acc=0.703, train_loss=0.332, train_acc=0.896]"
     ]
    },
    {
     "name": "stderr",
     "output_type": "stream",
     "text": [
      "Epoch 78, global step 30889: 'val_acc' reached 0.70350 (best 0.70890), saving model to '/Users/firekind/Projects/personal/ERA4/session-8/data/checkpoints/resnet50-cifar100-epoch=78-val_acc=0.70.ckpt' as top 3\n"
     ]
    },
    {
     "name": "stdout",
     "output_type": "stream",
     "text": [
      "\n",
      "Epoch 79: 100%|██████████| 391/391 [02:19<00:00,  2.81it/s, v_num=1, val_loss=1.130, val_acc=0.712, train_loss=0.300, train_acc=0.908]"
     ]
    },
    {
     "name": "stderr",
     "output_type": "stream",
     "text": [
      "Epoch 79, global step 31280: 'val_acc' reached 0.71240 (best 0.71240), saving model to '/Users/firekind/Projects/personal/ERA4/session-8/data/checkpoints/resnet50-cifar100-epoch=79-val_acc=0.71.ckpt' as top 3\n"
     ]
    },
    {
     "name": "stdout",
     "output_type": "stream",
     "text": [
      "\n",
      "Epoch 80: 100%|██████████| 391/391 [02:19<00:00,  2.80it/s, v_num=1, val_loss=1.090, val_acc=0.730, train_loss=0.264, train_acc=0.918]"
     ]
    },
    {
     "name": "stderr",
     "output_type": "stream",
     "text": [
      "Epoch 80, global step 31671: 'val_acc' reached 0.72970 (best 0.72970), saving model to '/Users/firekind/Projects/personal/ERA4/session-8/data/checkpoints/resnet50-cifar100-epoch=80-val_acc=0.73.ckpt' as top 3\n"
     ]
    },
    {
     "name": "stdout",
     "output_type": "stream",
     "text": [
      "\n",
      "Epoch 81: 100%|██████████| 391/391 [02:19<00:00,  2.81it/s, v_num=1, val_loss=1.170, val_acc=0.715, train_loss=0.222, train_acc=0.932]"
     ]
    },
    {
     "name": "stderr",
     "output_type": "stream",
     "text": [
      "Epoch 81, global step 32062: 'val_acc' reached 0.71530 (best 0.72970), saving model to '/Users/firekind/Projects/personal/ERA4/session-8/data/checkpoints/resnet50-cifar100-epoch=81-val_acc=0.72.ckpt' as top 3\n"
     ]
    },
    {
     "name": "stdout",
     "output_type": "stream",
     "text": [
      "\n",
      "Epoch 82: 100%|██████████| 391/391 [02:19<00:00,  2.81it/s, v_num=1, val_loss=1.140, val_acc=0.728, train_loss=0.186, train_acc=0.945]"
     ]
    },
    {
     "name": "stderr",
     "output_type": "stream",
     "text": [
      "Epoch 82, global step 32453: 'val_acc' reached 0.72840 (best 0.72970), saving model to '/Users/firekind/Projects/personal/ERA4/session-8/data/checkpoints/resnet50-cifar100-epoch=82-val_acc=0.73.ckpt' as top 3\n"
     ]
    },
    {
     "name": "stdout",
     "output_type": "stream",
     "text": [
      "\n",
      "Epoch 83: 100%|██████████| 391/391 [02:19<00:00,  2.81it/s, v_num=1, val_loss=1.060, val_acc=0.739, train_loss=0.169, train_acc=0.950]"
     ]
    },
    {
     "name": "stderr",
     "output_type": "stream",
     "text": [
      "Epoch 83, global step 32844: 'val_acc' reached 0.73920 (best 0.73920), saving model to '/Users/firekind/Projects/personal/ERA4/session-8/data/checkpoints/resnet50-cifar100-epoch=83-val_acc=0.74.ckpt' as top 3\n"
     ]
    },
    {
     "name": "stdout",
     "output_type": "stream",
     "text": [
      "\n",
      "Epoch 84: 100%|██████████| 391/391 [02:19<00:00,  2.80it/s, v_num=1, val_loss=1.030, val_acc=0.744, train_loss=0.131, train_acc=0.963]"
     ]
    },
    {
     "name": "stderr",
     "output_type": "stream",
     "text": [
      "Epoch 84, global step 33235: 'val_acc' reached 0.74390 (best 0.74390), saving model to '/Users/firekind/Projects/personal/ERA4/session-8/data/checkpoints/resnet50-cifar100-epoch=84-val_acc=0.74.ckpt' as top 3\n"
     ]
    },
    {
     "name": "stdout",
     "output_type": "stream",
     "text": [
      "\n",
      "Epoch 85: 100%|██████████| 391/391 [02:19<00:00,  2.81it/s, v_num=1, val_loss=0.998, val_acc=0.754, train_loss=0.102, train_acc=0.973]"
     ]
    },
    {
     "name": "stderr",
     "output_type": "stream",
     "text": [
      "Epoch 85, global step 33626: 'val_acc' reached 0.75450 (best 0.75450), saving model to '/Users/firekind/Projects/personal/ERA4/session-8/data/checkpoints/resnet50-cifar100-epoch=85-val_acc=0.75.ckpt' as top 3\n"
     ]
    },
    {
     "name": "stdout",
     "output_type": "stream",
     "text": [
      "\n",
      "Epoch 86: 100%|██████████| 391/391 [02:19<00:00,  2.81it/s, v_num=1, val_loss=0.963, val_acc=0.760, train_loss=0.0739, train_acc=0.982]"
     ]
    },
    {
     "name": "stderr",
     "output_type": "stream",
     "text": [
      "Epoch 86, global step 34017: 'val_acc' reached 0.76040 (best 0.76040), saving model to '/Users/firekind/Projects/personal/ERA4/session-8/data/checkpoints/resnet50-cifar100-epoch=86-val_acc=0.76.ckpt' as top 3\n"
     ]
    },
    {
     "name": "stdout",
     "output_type": "stream",
     "text": [
      "\n",
      "Epoch 87: 100%|██████████| 391/391 [02:19<00:00,  2.80it/s, v_num=1, val_loss=0.933, val_acc=0.773, train_loss=0.0534, train_acc=0.989]"
     ]
    },
    {
     "name": "stderr",
     "output_type": "stream",
     "text": [
      "Epoch 87, global step 34408: 'val_acc' reached 0.77320 (best 0.77320), saving model to '/Users/firekind/Projects/personal/ERA4/session-8/data/checkpoints/resnet50-cifar100-epoch=87-val_acc=0.77.ckpt' as top 3\n"
     ]
    },
    {
     "name": "stdout",
     "output_type": "stream",
     "text": [
      "\n",
      "Epoch 88: 100%|██████████| 391/391 [02:19<00:00,  2.80it/s, v_num=1, val_loss=0.907, val_acc=0.778, train_loss=0.0384, train_acc=0.993]"
     ]
    },
    {
     "name": "stderr",
     "output_type": "stream",
     "text": [
      "Epoch 88, global step 34799: 'val_acc' reached 0.77760 (best 0.77760), saving model to '/Users/firekind/Projects/personal/ERA4/session-8/data/checkpoints/resnet50-cifar100-epoch=88-val_acc=0.78.ckpt' as top 3\n"
     ]
    },
    {
     "name": "stdout",
     "output_type": "stream",
     "text": [
      "\n",
      "Epoch 89: 100%|██████████| 391/391 [02:19<00:00,  2.81it/s, v_num=1, val_loss=0.890, val_acc=0.782, train_loss=0.0303, train_acc=0.995]"
     ]
    },
    {
     "name": "stderr",
     "output_type": "stream",
     "text": [
      "Epoch 89, global step 35190: 'val_acc' reached 0.78190 (best 0.78190), saving model to '/Users/firekind/Projects/personal/ERA4/session-8/data/checkpoints/resnet50-cifar100-epoch=89-val_acc=0.78.ckpt' as top 3\n"
     ]
    },
    {
     "name": "stdout",
     "output_type": "stream",
     "text": [
      "\n",
      "Epoch 90: 100%|██████████| 391/391 [02:18<00:00,  2.81it/s, v_num=1, val_loss=0.886, val_acc=0.783, train_loss=0.0231, train_acc=0.997]"
     ]
    },
    {
     "name": "stderr",
     "output_type": "stream",
     "text": [
      "Epoch 90, global step 35581: 'val_acc' reached 0.78260 (best 0.78260), saving model to '/Users/firekind/Projects/personal/ERA4/session-8/data/checkpoints/resnet50-cifar100-epoch=90-val_acc=0.78.ckpt' as top 3\n"
     ]
    },
    {
     "name": "stdout",
     "output_type": "stream",
     "text": [
      "\n",
      "Epoch 91: 100%|██████████| 391/391 [02:18<00:00,  2.82it/s, v_num=1, val_loss=0.856, val_acc=0.786, train_loss=0.0183, train_acc=0.998]"
     ]
    },
    {
     "name": "stderr",
     "output_type": "stream",
     "text": [
      "Epoch 91, global step 35972: 'val_acc' reached 0.78630 (best 0.78630), saving model to '/Users/firekind/Projects/personal/ERA4/session-8/data/checkpoints/resnet50-cifar100-epoch=91-val_acc=0.79.ckpt' as top 3\n"
     ]
    },
    {
     "name": "stdout",
     "output_type": "stream",
     "text": [
      "\n",
      "Epoch 92: 100%|██████████| 391/391 [02:18<00:00,  2.82it/s, v_num=1, val_loss=0.853, val_acc=0.787, train_loss=0.0163, train_acc=0.998]"
     ]
    },
    {
     "name": "stderr",
     "output_type": "stream",
     "text": [
      "Epoch 92, global step 36363: 'val_acc' reached 0.78720 (best 0.78720), saving model to '/Users/firekind/Projects/personal/ERA4/session-8/data/checkpoints/resnet50-cifar100-epoch=92-val_acc=0.79.ckpt' as top 3\n"
     ]
    },
    {
     "name": "stdout",
     "output_type": "stream",
     "text": [
      "\n",
      "Epoch 93: 100%|██████████| 391/391 [02:18<00:00,  2.82it/s, v_num=1, val_loss=0.845, val_acc=0.790, train_loss=0.0146, train_acc=0.998]"
     ]
    },
    {
     "name": "stderr",
     "output_type": "stream",
     "text": [
      "Epoch 93, global step 36754: 'val_acc' reached 0.78980 (best 0.78980), saving model to '/Users/firekind/Projects/personal/ERA4/session-8/data/checkpoints/resnet50-cifar100-epoch=93-val_acc=0.79.ckpt' as top 3\n"
     ]
    },
    {
     "name": "stdout",
     "output_type": "stream",
     "text": [
      "\n",
      "Epoch 94: 100%|██████████| 391/391 [02:18<00:00,  2.83it/s, v_num=1, val_loss=0.841, val_acc=0.791, train_loss=0.0127, train_acc=0.999]"
     ]
    },
    {
     "name": "stderr",
     "output_type": "stream",
     "text": [
      "Epoch 94, global step 37145: 'val_acc' reached 0.79090 (best 0.79090), saving model to '/Users/firekind/Projects/personal/ERA4/session-8/data/checkpoints/resnet50-cifar100-epoch=94-val_acc=0.79.ckpt' as top 3\n"
     ]
    },
    {
     "name": "stdout",
     "output_type": "stream",
     "text": [
      "\n",
      "Epoch 95: 100%|██████████| 391/391 [02:18<00:00,  2.83it/s, v_num=1, val_loss=0.834, val_acc=0.791, train_loss=0.0123, train_acc=0.999]\n"
     ]
    },
    {
     "name": "stderr",
     "output_type": "stream",
     "text": [
      "Epoch 95, global step 37536: 'val_acc' reached 0.79150 (best 0.79150), saving model to '/Users/firekind/Projects/personal/ERA4/session-8/data/checkpoints/resnet50-cifar100-epoch=95-val_acc=0.79.ckpt' as top 3\n"
     ]
    },
    {
     "name": "stdout",
     "output_type": "stream",
     "text": [
      "Epoch 96: 100%|██████████| 391/391 [02:18<00:00,  2.83it/s, v_num=1, val_loss=0.838, val_acc=0.792, train_loss=0.0114, train_acc=0.999]"
     ]
    },
    {
     "name": "stderr",
     "output_type": "stream",
     "text": [
      "Epoch 96, global step 37927: 'val_acc' reached 0.79170 (best 0.79170), saving model to '/Users/firekind/Projects/personal/ERA4/session-8/data/checkpoints/resnet50-cifar100-epoch=96-val_acc=0.79.ckpt' as top 3\n"
     ]
    },
    {
     "name": "stdout",
     "output_type": "stream",
     "text": [
      "\n",
      "Epoch 97: 100%|██████████| 391/391 [02:18<00:00,  2.83it/s, v_num=1, val_loss=0.835, val_acc=0.794, train_loss=0.0112, train_acc=0.999]"
     ]
    },
    {
     "name": "stderr",
     "output_type": "stream",
     "text": [
      "Epoch 97, global step 38318: 'val_acc' reached 0.79420 (best 0.79420), saving model to '/Users/firekind/Projects/personal/ERA4/session-8/data/checkpoints/resnet50-cifar100-epoch=97-val_acc=0.79.ckpt' as top 3\n"
     ]
    },
    {
     "name": "stdout",
     "output_type": "stream",
     "text": [
      "\n",
      "Epoch 98: 100%|██████████| 391/391 [02:18<00:00,  2.83it/s, v_num=1, val_loss=0.833, val_acc=0.792, train_loss=0.0111, train_acc=0.999]"
     ]
    },
    {
     "name": "stderr",
     "output_type": "stream",
     "text": [
      "Epoch 98, global step 38709: 'val_acc' reached 0.79220 (best 0.79420), saving model to '/Users/firekind/Projects/personal/ERA4/session-8/data/checkpoints/resnet50-cifar100-epoch=98-val_acc=0.79.ckpt' as top 3\n"
     ]
    },
    {
     "name": "stdout",
     "output_type": "stream",
     "text": [
      "\n",
      "Epoch 99: 100%|██████████| 391/391 [02:17<00:00,  2.84it/s, v_num=1, val_loss=0.836, val_acc=0.791, train_loss=0.0114, train_acc=0.999]"
     ]
    },
    {
     "name": "stderr",
     "output_type": "stream",
     "text": [
      "Epoch 99, global step 39100: 'val_acc' was not in top 3\n"
     ]
    },
    {
     "name": "stdout",
     "output_type": "stream",
     "text": [
      "\n"
     ]
    },
    {
     "name": "stderr",
     "output_type": "stream",
     "text": [
      "`Trainer.fit` stopped: `max_epochs=100` reached.\n"
     ]
    }
   ],
   "source": [
    "trainer.fit(model=model, datamodule=datamodule)"
   ]
  },
  {
   "cell_type": "code",
   "execution_count": null,
   "id": "ee64e134",
   "metadata": {},
   "outputs": [],
   "source": []
  }
 ],
 "metadata": {
  "kernelspec": {
   "display_name": "session-8 (3.12.11)",
   "language": "python",
   "name": "python3"
  },
  "language_info": {
   "codemirror_mode": {
    "name": "ipython",
    "version": 3
   },
   "file_extension": ".py",
   "mimetype": "text/x-python",
   "name": "python",
   "nbconvert_exporter": "python",
   "pygments_lexer": "ipython3",
   "version": "3.12.11"
  }
 },
 "nbformat": 4,
 "nbformat_minor": 5
}
